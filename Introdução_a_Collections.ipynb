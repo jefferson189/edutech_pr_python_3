{
  "nbformat": 4,
  "nbformat_minor": 0,
  "metadata": {
    "colab": {
      "name": "Introdução a Collections",
      "provenance": [],
      "collapsed_sections": [],
      "authorship_tag": "ABX9TyPEjBu3HEjgS2mOKK+0YVNX",
      "include_colab_link": true
    },
    "kernelspec": {
      "name": "python3",
      "display_name": "Python 3"
    },
    "language_info": {
      "name": "python"
    }
  },
  "cells": [
    {
      "cell_type": "markdown",
      "metadata": {
        "id": "view-in-github",
        "colab_type": "text"
      },
      "source": [
        "<a href=\"https://colab.research.google.com/github/jefferson189/edutech_pr_python_3/blob/main/Introdu%C3%A7%C3%A3o_a_Collections.ipynb\" target=\"_parent\"><img src=\"https://colab.research.google.com/assets/colab-badge.svg\" alt=\"Open In Colab\"/></a>"
      ]
    },
    {
      "cell_type": "code",
      "metadata": {
        "colab": {
          "base_uri": "https://localhost:8080/"
        },
        "id": "LlG9b4pjjyfN",
        "outputId": "7286b8af-0982-4020-abfa-f7dc92fd8ceb"
      },
      "source": [
        "idade1 = 30\n",
        "idade2 = 20\n",
        "idade3 = 52\n",
        "idade4 = 39\n",
        "print(idade1)\n",
        "print(idade2)\n",
        "print(idade3)\n",
        "print(idade4)"
      ],
      "execution_count": null,
      "outputs": [
        {
          "output_type": "stream",
          "name": "stdout",
          "text": [
            "30\n",
            "20\n",
            "52\n",
            "39\n"
          ]
        }
      ]
    },
    {
      "cell_type": "code",
      "metadata": {
        "colab": {
          "base_uri": "https://localhost:8080/"
        },
        "id": "UsbfUukMupE4",
        "outputId": "b0830309-9fd4-4e56-bb61-1bc2131c6379"
      },
      "source": [
        "ages = [idade1, idade2, idade3, idade4]\n",
        "ages"
      ],
      "execution_count": null,
      "outputs": [
        {
          "output_type": "execute_result",
          "data": {
            "text/plain": [
              "[30, 20, 52, 39]"
            ]
          },
          "metadata": {},
          "execution_count": 23
        }
      ]
    },
    {
      "cell_type": "code",
      "metadata": {
        "colab": {
          "base_uri": "https://localhost:8080/"
        },
        "id": "BGARb5T4meqp",
        "outputId": "e632e85f-abc0-4449-fea8-c9109c831bda"
      },
      "source": [
        "idades = [39, 30, 27, 18]\n",
        "print(idades[1])\n",
        "print(idades[2])\n",
        "print(idades[3])"
      ],
      "execution_count": null,
      "outputs": [
        {
          "output_type": "stream",
          "name": "stdout",
          "text": [
            "30\n",
            "27\n",
            "18\n"
          ]
        }
      ]
    },
    {
      "cell_type": "code",
      "metadata": {
        "colab": {
          "base_uri": "https://localhost:8080/"
        },
        "id": "gbj1GKYkmm1p",
        "outputId": "48b24578-8155-4dd7-faeb-5d3551666f2b"
      },
      "source": [
        "idades.append(15)\n",
        "idades"
      ],
      "execution_count": null,
      "outputs": [
        {
          "output_type": "execute_result",
          "data": {
            "text/plain": [
              "[39, 30, 27, 18, 15]"
            ]
          },
          "metadata": {},
          "execution_count": 4
        }
      ]
    },
    {
      "cell_type": "code",
      "metadata": {
        "colab": {
          "base_uri": "https://localhost:8080/"
        },
        "id": "k9C1x2PImt8Z",
        "outputId": "2b4165a5-b70f-4311-d13e-8db721fa658b"
      },
      "source": [
        "idades[4]"
      ],
      "execution_count": null,
      "outputs": [
        {
          "output_type": "execute_result",
          "data": {
            "text/plain": [
              "15"
            ]
          },
          "metadata": {},
          "execution_count": 5
        }
      ]
    },
    {
      "cell_type": "code",
      "metadata": {
        "colab": {
          "base_uri": "https://localhost:8080/"
        },
        "id": "ZANlj3oqmw8x",
        "outputId": "2b7cdd6d-97b1-4880-da13-730f8f4b081c"
      },
      "source": [
        "for idade in idades: \n",
        "  print(idade)"
      ],
      "execution_count": null,
      "outputs": [
        {
          "output_type": "stream",
          "name": "stdout",
          "text": [
            "39\n",
            "30\n",
            "27\n",
            "18\n",
            "15\n"
          ]
        }
      ]
    },
    {
      "cell_type": "code",
      "metadata": {
        "colab": {
          "base_uri": "https://localhost:8080/"
        },
        "id": "_nUs9TBdm0Sx",
        "outputId": "54cf6eec-b1d9-4fab-e533-9351cb2a7fd7"
      },
      "source": [
        "idades.append(27)\n",
        "idades.remove(27)\n",
        "idades"
      ],
      "execution_count": null,
      "outputs": [
        {
          "output_type": "execute_result",
          "data": {
            "text/plain": [
              "[39, 18, 15, 27]"
            ]
          },
          "metadata": {},
          "execution_count": 10
        }
      ]
    },
    {
      "cell_type": "code",
      "metadata": {
        "id": "p0JnRT80m5b4",
        "colab": {
          "base_uri": "https://localhost:8080/"
        },
        "outputId": "8189fd05-572e-4abe-8cea-683fa57e5787"
      },
      "source": [
        "idades = [39, 30, 27, 18]\n",
        "\n",
        "28 in idades"
      ],
      "execution_count": null,
      "outputs": [
        {
          "output_type": "execute_result",
          "data": {
            "text/plain": [
              "False"
            ]
          },
          "metadata": {},
          "execution_count": 3
        }
      ]
    },
    {
      "cell_type": "code",
      "metadata": {
        "colab": {
          "base_uri": "https://localhost:8080/"
        },
        "id": "RRhCRpT7d344",
        "outputId": "fbbaa206-2c51-4ce5-b389-19d45dace36a"
      },
      "source": [
        "18 in idades"
      ],
      "execution_count": null,
      "outputs": [
        {
          "output_type": "execute_result",
          "data": {
            "text/plain": [
              "True"
            ]
          },
          "metadata": {},
          "execution_count": 4
        }
      ]
    },
    {
      "cell_type": "code",
      "metadata": {
        "id": "hLogqcL-d6bx"
      },
      "source": [
        "if 18 in idades:\n",
        "  idades.remove(18)"
      ],
      "execution_count": null,
      "outputs": []
    },
    {
      "cell_type": "code",
      "metadata": {
        "colab": {
          "base_uri": "https://localhost:8080/"
        },
        "id": "fuD_UhsSd_b7",
        "outputId": "8145a076-2b66-45c9-a031-cea031c0654c"
      },
      "source": [
        "idades"
      ],
      "execution_count": null,
      "outputs": [
        {
          "output_type": "execute_result",
          "data": {
            "text/plain": [
              "[39, 30, 27]"
            ]
          },
          "metadata": {},
          "execution_count": 6
        }
      ]
    },
    {
      "cell_type": "code",
      "metadata": {
        "colab": {
          "base_uri": "https://localhost:8080/"
        },
        "id": "Oe1x5sa4eJOD",
        "outputId": "bb8d39f2-ac97-4154-dbbe-ed487f243eae"
      },
      "source": [
        "if 28 in idades:\n",
        "  idades.remove(28)\n",
        "  \n",
        "idades"
      ],
      "execution_count": null,
      "outputs": [
        {
          "output_type": "execute_result",
          "data": {
            "text/plain": [
              "[39, 30, 27]"
            ]
          },
          "metadata": {},
          "execution_count": 7
        }
      ]
    },
    {
      "cell_type": "code",
      "metadata": {
        "colab": {
          "base_uri": "https://localhost:8080/"
        },
        "id": "TtIXGqUEegxj",
        "outputId": "87582a7b-a157-4dd1-e49d-9b4e0fe7d631"
      },
      "source": [
        "idades.append(19)\n",
        "idades"
      ],
      "execution_count": null,
      "outputs": [
        {
          "output_type": "execute_result",
          "data": {
            "text/plain": [
              "[39, 30, 27, 19]"
            ]
          },
          "metadata": {},
          "execution_count": 8
        }
      ]
    },
    {
      "cell_type": "code",
      "metadata": {
        "colab": {
          "base_uri": "https://localhost:8080/"
        },
        "id": "HOuVNX9eeo0C",
        "outputId": "3af3d9cb-1c41-4d02-8681-f867291ad208"
      },
      "source": [
        "idades.insert(0,20)\n",
        "idades"
      ],
      "execution_count": null,
      "outputs": [
        {
          "output_type": "execute_result",
          "data": {
            "text/plain": [
              "[20, 39, 30, 27, 19]"
            ]
          },
          "metadata": {},
          "execution_count": 9
        }
      ]
    },
    {
      "cell_type": "code",
      "metadata": {
        "colab": {
          "base_uri": "https://localhost:8080/"
        },
        "id": "BJBdjN5EfrUH",
        "outputId": "bf3937f6-5729-4daa-cfbb-f5afef9498de"
      },
      "source": [
        "idades = [20,39,30]\n",
        "idades"
      ],
      "execution_count": null,
      "outputs": [
        {
          "output_type": "execute_result",
          "data": {
            "text/plain": [
              "[20, 39, 30]"
            ]
          },
          "metadata": {},
          "execution_count": 10
        }
      ]
    },
    {
      "cell_type": "code",
      "metadata": {
        "colab": {
          "base_uri": "https://localhost:8080/"
        },
        "id": "QYvTVvTzfxwR",
        "outputId": "3ec5da8f-fe86-4b6d-cef6-6ba039ec86e5"
      },
      "source": [
        "idades.append([29,19])\n",
        "idades"
      ],
      "execution_count": null,
      "outputs": [
        {
          "output_type": "execute_result",
          "data": {
            "text/plain": [
              "[20, 39, 30, [29, 19]]"
            ]
          },
          "metadata": {},
          "execution_count": 11
        }
      ]
    },
    {
      "cell_type": "code",
      "metadata": {
        "colab": {
          "base_uri": "https://localhost:8080/"
        },
        "id": "FjLgQcisf9hu",
        "outputId": "15c9135f-0e93-43a0-ed5b-d5eec9d04c4b"
      },
      "source": [
        "for elemento in idades:\n",
        "  print(\"O valor recebido é\", elemento)"
      ],
      "execution_count": null,
      "outputs": [
        {
          "output_type": "stream",
          "name": "stdout",
          "text": [
            "O valor recebido é 20\n",
            "O valor recebido é 39\n",
            "O valor recebido é 30\n",
            "O valor recebido é [29, 19]\n"
          ]
        }
      ]
    },
    {
      "cell_type": "code",
      "metadata": {
        "colab": {
          "base_uri": "https://localhost:8080/"
        },
        "id": "OzA8rpymgnB2",
        "outputId": "2de842d4-f673-46e3-8dab-5f2582918731"
      },
      "source": [
        "idades = [20,39,30]\n",
        "idades.extend([29,19])\n",
        "idades"
      ],
      "execution_count": null,
      "outputs": [
        {
          "output_type": "execute_result",
          "data": {
            "text/plain": [
              "[20, 39, 30, 29, 19]"
            ]
          },
          "metadata": {},
          "execution_count": 13
        }
      ]
    },
    {
      "cell_type": "code",
      "metadata": {
        "colab": {
          "base_uri": "https://localhost:8080/"
        },
        "id": "QL8ioYpLiauJ",
        "outputId": "d868d856-89c7-4511-f2e1-6c9be15f73d8"
      },
      "source": [
        "for idade in idades:\n",
        "  print(idade + 1)"
      ],
      "execution_count": null,
      "outputs": [
        {
          "output_type": "stream",
          "name": "stdout",
          "text": [
            "21\n",
            "40\n",
            "31\n",
            "30\n",
            "20\n"
          ]
        }
      ]
    },
    {
      "cell_type": "code",
      "metadata": {
        "colab": {
          "base_uri": "https://localhost:8080/"
        },
        "id": "1vJTSEfPiq3X",
        "outputId": "93c0aa85-7a52-499a-a7e6-35a15ee7dd3b"
      },
      "source": [
        "idades_no_ano_que_vem = []\n",
        "for idade in idades:\n",
        "  idades_no_ano_que_vem.append(idade+1)\n",
        "\n",
        "idades_no_ano_que_vem "
      ],
      "execution_count": null,
      "outputs": [
        {
          "output_type": "execute_result",
          "data": {
            "text/plain": [
              "[21, 40, 31, 30, 20]"
            ]
          },
          "metadata": {},
          "execution_count": 16
        }
      ]
    },
    {
      "cell_type": "code",
      "metadata": {
        "colab": {
          "base_uri": "https://localhost:8080/"
        },
        "id": "LgMj74BEjHNP",
        "outputId": "8417be6e-2b49-45ff-a564-6ab0a6982866"
      },
      "source": [
        "idades_no_ano_que_vem = [(idade+1) for idade in idades]\n",
        "idades_no_ano_que_vem"
      ],
      "execution_count": null,
      "outputs": [
        {
          "output_type": "execute_result",
          "data": {
            "text/plain": [
              "[21, 40, 31, 30, 20]"
            ]
          },
          "metadata": {},
          "execution_count": 17
        }
      ]
    },
    {
      "cell_type": "code",
      "metadata": {
        "colab": {
          "base_uri": "https://localhost:8080/"
        },
        "id": "qP8IJfkujgH3",
        "outputId": "83fc2a32-7df5-4c9d-c28f-2b7c6e99f604"
      },
      "source": [
        "[(idade) for idade in idades if idade > 21]"
      ],
      "execution_count": null,
      "outputs": [
        {
          "output_type": "execute_result",
          "data": {
            "text/plain": [
              "[39, 30, 29]"
            ]
          },
          "metadata": {},
          "execution_count": 18
        }
      ]
    },
    {
      "cell_type": "code",
      "metadata": {
        "colab": {
          "base_uri": "https://localhost:8080/"
        },
        "id": "RGtY-zLCjt41",
        "outputId": "5215dfc9-58b4-41f9-bf13-bc78cdf98d75"
      },
      "source": [
        "def proximo_ano(idade):\n",
        "  return idade+1\n",
        "\n",
        "[proximo_ano(idade) for idade in idades if idade > 21]"
      ],
      "execution_count": null,
      "outputs": [
        {
          "output_type": "execute_result",
          "data": {
            "text/plain": [
              "[40, 31, 30]"
            ]
          },
          "metadata": {},
          "execution_count": 20
        }
      ]
    },
    {
      "cell_type": "code",
      "metadata": {
        "colab": {
          "base_uri": "https://localhost:8080/"
        },
        "id": "ppekvcXymGeL",
        "outputId": "0c6b71c9-2ce8-41a8-b0ff-8d3e08c89c00"
      },
      "source": [
        "def faz_processamento_de_visualizacao(lista):\n",
        "  print(len(lista))\n",
        "\n",
        "\n",
        "idades = [16, 21, 29, 56, 43]\n",
        "faz_processamento_de_visualizacao(idades)\n",
        "idades"
      ],
      "execution_count": null,
      "outputs": [
        {
          "output_type": "stream",
          "name": "stdout",
          "text": [
            "5\n"
          ]
        },
        {
          "output_type": "execute_result",
          "data": {
            "text/plain": [
              "[16, 21, 29, 56, 43]"
            ]
          },
          "metadata": {},
          "execution_count": 23
        }
      ]
    },
    {
      "cell_type": "code",
      "metadata": {
        "colab": {
          "base_uri": "https://localhost:8080/"
        },
        "id": "uncM_iubmOoP",
        "outputId": "b03f552c-7908-4638-f303-2b9f2956053f"
      },
      "source": [
        "def faz_processamento_de_visualizacao(lista):\n",
        "  print(len(lista))\n",
        "  lista.append(13)\n",
        "\n",
        "idades = [16, 21, 29, 56, 43]\n",
        "faz_processamento_de_visualizacao(idades)\n",
        "idades"
      ],
      "execution_count": null,
      "outputs": [
        {
          "output_type": "stream",
          "name": "stdout",
          "text": [
            "5\n"
          ]
        },
        {
          "output_type": "execute_result",
          "data": {
            "text/plain": [
              "[16, 21, 29, 56, 43, 13]"
            ]
          },
          "metadata": {},
          "execution_count": 26
        }
      ]
    },
    {
      "cell_type": "code",
      "metadata": {
        "colab": {
          "base_uri": "https://localhost:8080/"
        },
        "id": "2unFYJS0nIRU",
        "outputId": "980f6cf9-beb3-4a2a-8874-d70e6f45312f"
      },
      "source": [
        "def faz_processamento_de_visualizacao(lista = list()):\n",
        "  print(len(lista))\n",
        "  print(lista)\n",
        "  lista.append(13)\n",
        "\n",
        "\n",
        "faz_processamento_de_visualizacao()"
      ],
      "execution_count": null,
      "outputs": [
        {
          "output_type": "stream",
          "name": "stdout",
          "text": [
            "0\n",
            "[]\n"
          ]
        }
      ]
    },
    {
      "cell_type": "code",
      "metadata": {
        "colab": {
          "base_uri": "https://localhost:8080/"
        },
        "id": "fNnikKpSn8g1",
        "outputId": "e3b3e79b-cb6e-4ab3-8c43-ab9d55beef41"
      },
      "source": [
        "faz_processamento_de_visualizacao()"
      ],
      "execution_count": null,
      "outputs": [
        {
          "output_type": "stream",
          "name": "stdout",
          "text": [
            "1\n",
            "[13]\n"
          ]
        }
      ]
    },
    {
      "cell_type": "code",
      "metadata": {
        "colab": {
          "base_uri": "https://localhost:8080/"
        },
        "id": "T-efuDLJn96b",
        "outputId": "6c1206f1-9278-492c-ae68-5885b19b254a"
      },
      "source": [
        "faz_processamento_de_visualizacao()"
      ],
      "execution_count": null,
      "outputs": [
        {
          "output_type": "stream",
          "name": "stdout",
          "text": [
            "2\n",
            "[13, 13]\n"
          ]
        }
      ]
    },
    {
      "cell_type": "code",
      "metadata": {
        "colab": {
          "base_uri": "https://localhost:8080/"
        },
        "id": "tENCz5d_n_Ay",
        "outputId": "9a012fd7-a945-425c-d444-f8f2cb9d7b74"
      },
      "source": [
        "faz_processamento_de_visualizacao()"
      ],
      "execution_count": null,
      "outputs": [
        {
          "output_type": "stream",
          "name": "stdout",
          "text": [
            "3\n",
            "[13, 13, 13]\n"
          ]
        }
      ]
    },
    {
      "cell_type": "code",
      "metadata": {
        "colab": {
          "base_uri": "https://localhost:8080/"
        },
        "id": "MfZ_qgaCoXmu",
        "outputId": "4918a96f-5bc9-42dc-a3aa-c985cc708fce"
      },
      "source": [
        "def faz_processamento_de_visualizacao(lista = None):\n",
        "  if lista == None:\n",
        "    lista = list()\n",
        "    print(len(lista))\n",
        "    print(lista)\n",
        "    lista.append(13)\n",
        "\n",
        "faz_processamento_de_visualizacao()"
      ],
      "execution_count": null,
      "outputs": [
        {
          "output_type": "stream",
          "name": "stdout",
          "text": [
            "0\n",
            "[]\n"
          ]
        }
      ]
    },
    {
      "cell_type": "code",
      "metadata": {
        "id": "t684pACoof_t",
        "colab": {
          "base_uri": "https://localhost:8080/"
        },
        "outputId": "3133e397-8e57-4b5e-8f77-799149d34b78"
      },
      "source": [
        "faz_processamento_de_visualizacao()"
      ],
      "execution_count": null,
      "outputs": [
        {
          "output_type": "stream",
          "name": "stdout",
          "text": [
            "0\n",
            "[]\n"
          ]
        }
      ]
    },
    {
      "cell_type": "markdown",
      "metadata": {
        "id": "Lt2wqxwpbSGM"
      },
      "source": [
        "# **Objetos Proprios**"
      ]
    },
    {
      "cell_type": "code",
      "metadata": {
        "id": "U_u2-BTXbn89"
      },
      "source": [
        "class ContaCorrente():\n",
        "  \n",
        "  def __init__(self, codigo):\n",
        "    self.codigo = codigo\n",
        "    self.saldo = 0\n",
        "  \n",
        "  def deposita(self, valor):\n",
        "    self.saldo += valor\n",
        "  \n",
        "  def __str__(self):\n",
        "    return \"[>>Codigo {} Saldo {}<<]\".format(self.codigo, self.saldo)"
      ],
      "execution_count": null,
      "outputs": []
    },
    {
      "cell_type": "code",
      "metadata": {
        "colab": {
          "base_uri": "https://localhost:8080/"
        },
        "id": "7fASirsCeeOr",
        "outputId": "01c1b90d-a750-40ed-9992-093a7bc90617"
      },
      "source": [
        "conta_do_jeh = ContaCorrente(10)\n",
        "print(conta_do_jeh)"
      ],
      "execution_count": null,
      "outputs": [
        {
          "output_type": "stream",
          "name": "stdout",
          "text": [
            "[>>Codigo 10 Saldo 0<<]\n"
          ]
        }
      ]
    },
    {
      "cell_type": "code",
      "metadata": {
        "colab": {
          "base_uri": "https://localhost:8080/"
        },
        "id": "2KD44tENe9jV",
        "outputId": "1c3d033f-6fc5-45ee-973b-d572d0def736"
      },
      "source": [
        "conta_do_jeh.deposita(500)\n",
        "print(conta_do_jeh)"
      ],
      "execution_count": null,
      "outputs": [
        {
          "output_type": "stream",
          "name": "stdout",
          "text": [
            "[>>Codigo 10 Saldo 500<<]\n"
          ]
        }
      ]
    },
    {
      "cell_type": "code",
      "metadata": {
        "colab": {
          "base_uri": "https://localhost:8080/"
        },
        "id": "omYg_z9IfsyR",
        "outputId": "07314fe0-2b73-4637-875d-5517e0210acc"
      },
      "source": [
        "conta_da_dani = ContaCorrente(6969)\n",
        "conta_da_dani.deposita(1000)\n",
        "print(conta_da_dani)"
      ],
      "execution_count": null,
      "outputs": [
        {
          "output_type": "stream",
          "name": "stdout",
          "text": [
            "[>>Codigo 6969 Saldo 1000<<]\n"
          ]
        }
      ]
    },
    {
      "cell_type": "code",
      "metadata": {
        "colab": {
          "base_uri": "https://localhost:8080/"
        },
        "id": "S1GecvSugVYW",
        "outputId": "4956e112-d564-4a58-928c-9e2efe315336"
      },
      "source": [
        "contas = [conta_do_jeh, conta_da_dani]\n",
        "print(contas)"
      ],
      "execution_count": null,
      "outputs": [
        {
          "output_type": "stream",
          "name": "stdout",
          "text": [
            "[<__main__.ContaCorrente object at 0x7fd43273ffd0>, <__main__.ContaCorrente object at 0x7fd432756b50>]\n"
          ]
        }
      ]
    },
    {
      "cell_type": "code",
      "metadata": {
        "colab": {
          "base_uri": "https://localhost:8080/"
        },
        "id": "LQSp0DLfg8In",
        "outputId": "ab2705b9-c906-40a1-df1f-36f3e621cdcf"
      },
      "source": [
        "contas = [conta_do_jeh, conta_da_dani]\n",
        "for conta in contas:\n",
        "  print(conta)"
      ],
      "execution_count": null,
      "outputs": [
        {
          "output_type": "stream",
          "name": "stdout",
          "text": [
            "[>>Codigo 10 Saldo 500<<]\n",
            "[>>Codigo 6969 Saldo 1000<<]\n"
          ]
        }
      ]
    },
    {
      "cell_type": "code",
      "metadata": {
        "colab": {
          "base_uri": "https://localhost:8080/"
        },
        "id": "xrtqdXpphe1u",
        "outputId": "cd3a5449-c06c-45f7-dab8-4ba47c5dffd4"
      },
      "source": [
        "contas = [conta_do_jeh, conta_da_dani, conta_do_jeh]\n",
        "print(contas[0])\n",
        "print(contas[1])\n",
        "print(contas[2])"
      ],
      "execution_count": null,
      "outputs": [
        {
          "output_type": "stream",
          "name": "stdout",
          "text": [
            "[>>Codigo 10 Saldo 500<<]\n",
            "[>>Codigo 6969 Saldo 1000<<]\n",
            "[>>Codigo 10 Saldo 500<<]\n"
          ]
        }
      ]
    },
    {
      "cell_type": "code",
      "metadata": {
        "colab": {
          "base_uri": "https://localhost:8080/"
        },
        "id": "bp4Q8GrjiS9u",
        "outputId": "6bbc1143-8603-4f02-ee7f-5c32d2a54dc2"
      },
      "source": [
        "conta_do_jeh.deposita(100)\n",
        "print(contas[0])"
      ],
      "execution_count": null,
      "outputs": [
        {
          "output_type": "stream",
          "name": "stdout",
          "text": [
            "[>>Codigo 10 Saldo 700<<]\n"
          ]
        }
      ]
    },
    {
      "cell_type": "code",
      "metadata": {
        "colab": {
          "base_uri": "https://localhost:8080/"
        },
        "id": "PGP10mOGjj_K",
        "outputId": "c081961d-91b9-4188-b94e-499f452dd677"
      },
      "source": [
        "contas[2].deposita(100)\n",
        "print(contas[2])"
      ],
      "execution_count": null,
      "outputs": [
        {
          "output_type": "stream",
          "name": "stdout",
          "text": [
            "[>>Codigo 10 Saldo 1000<<]\n"
          ]
        }
      ]
    },
    {
      "cell_type": "code",
      "metadata": {
        "colab": {
          "base_uri": "https://localhost:8080/"
        },
        "id": "2N8wuVn2vvR6",
        "outputId": "546bb836-41c6-4b7d-cf46-162be798c9fd"
      },
      "source": [
        "def deposita_para_todas(contas):\n",
        "  for conta in contas:\n",
        "    conta.deposita(100)\n",
        "\n",
        "contas = [conta_do_jeh, conta_da_dani]\n",
        "print(contas[0], contas[1])\n",
        "deposita_para_todas(contas)\n",
        "print(contas[0], contas[1])"
      ],
      "execution_count": null,
      "outputs": [
        {
          "output_type": "stream",
          "name": "stdout",
          "text": [
            "[>>Codigo 10 Saldo 1000<<] [>>Codigo 6969 Saldo 1000<<]\n",
            "[>>Codigo 10 Saldo 1100<<] [>>Codigo 6969 Saldo 1100<<]\n"
          ]
        }
      ]
    },
    {
      "cell_type": "code",
      "metadata": {
        "colab": {
          "base_uri": "https://localhost:8080/"
        },
        "id": "d-oHbeOa0NsN",
        "outputId": "0949c9e5-6ed6-4921-933c-1bda0dbf3e0a"
      },
      "source": [
        "contas.insert(0,76)\n",
        "print(contas[0],contas[1],contas[2])"
      ],
      "execution_count": null,
      "outputs": [
        {
          "output_type": "stream",
          "name": "stdout",
          "text": [
            "76 [>>Codigo 10 Saldo 1100<<] [>>Codigo 6969 Saldo 1100<<]\n"
          ]
        }
      ]
    },
    {
      "cell_type": "code",
      "metadata": {
        "colab": {
          "base_uri": "https://localhost:8080/",
          "height": 304
        },
        "id": "i8If-HZO0sF1",
        "outputId": "20990e05-13dd-4276-dab3-c9d39e9e4356"
      },
      "source": [
        "deposita_para_todas(contas)\n",
        "print(contas[0],contas[1],contas[2])"
      ],
      "execution_count": null,
      "outputs": [
        {
          "output_type": "error",
          "ename": "AttributeError",
          "evalue": "ignored",
          "traceback": [
            "\u001b[0;31m---------------------------------------------------------------------------\u001b[0m",
            "\u001b[0;31mAttributeError\u001b[0m                            Traceback (most recent call last)",
            "\u001b[0;32m<ipython-input-23-db34600fd971>\u001b[0m in \u001b[0;36m<module>\u001b[0;34m()\u001b[0m\n\u001b[0;32m----> 1\u001b[0;31m \u001b[0mdeposita_para_todas\u001b[0m\u001b[0;34m(\u001b[0m\u001b[0mcontas\u001b[0m\u001b[0;34m)\u001b[0m\u001b[0;34m\u001b[0m\u001b[0;34m\u001b[0m\u001b[0m\n\u001b[0m\u001b[1;32m      2\u001b[0m \u001b[0mprint\u001b[0m\u001b[0;34m(\u001b[0m\u001b[0mcontas\u001b[0m\u001b[0;34m[\u001b[0m\u001b[0;36m0\u001b[0m\u001b[0;34m]\u001b[0m\u001b[0;34m,\u001b[0m\u001b[0mcontas\u001b[0m\u001b[0;34m[\u001b[0m\u001b[0;36m1\u001b[0m\u001b[0;34m]\u001b[0m\u001b[0;34m,\u001b[0m\u001b[0mcontas\u001b[0m\u001b[0;34m[\u001b[0m\u001b[0;36m2\u001b[0m\u001b[0;34m]\u001b[0m\u001b[0;34m)\u001b[0m\u001b[0;34m\u001b[0m\u001b[0;34m\u001b[0m\u001b[0m\n",
            "\u001b[0;32m<ipython-input-21-01fe6d1dfa90>\u001b[0m in \u001b[0;36mdeposita_para_todas\u001b[0;34m(contas)\u001b[0m\n\u001b[1;32m      1\u001b[0m \u001b[0;32mdef\u001b[0m \u001b[0mdeposita_para_todas\u001b[0m\u001b[0;34m(\u001b[0m\u001b[0mcontas\u001b[0m\u001b[0;34m)\u001b[0m\u001b[0;34m:\u001b[0m\u001b[0;34m\u001b[0m\u001b[0;34m\u001b[0m\u001b[0m\n\u001b[1;32m      2\u001b[0m   \u001b[0;32mfor\u001b[0m \u001b[0mconta\u001b[0m \u001b[0;32min\u001b[0m \u001b[0mcontas\u001b[0m\u001b[0;34m:\u001b[0m\u001b[0;34m\u001b[0m\u001b[0;34m\u001b[0m\u001b[0m\n\u001b[0;32m----> 3\u001b[0;31m     \u001b[0mconta\u001b[0m\u001b[0;34m.\u001b[0m\u001b[0mdeposita\u001b[0m\u001b[0;34m(\u001b[0m\u001b[0;36m100\u001b[0m\u001b[0;34m)\u001b[0m\u001b[0;34m\u001b[0m\u001b[0;34m\u001b[0m\u001b[0m\n\u001b[0m\u001b[1;32m      4\u001b[0m \u001b[0;34m\u001b[0m\u001b[0m\n\u001b[1;32m      5\u001b[0m \u001b[0mcontas\u001b[0m \u001b[0;34m=\u001b[0m \u001b[0;34m[\u001b[0m\u001b[0mconta_do_jeh\u001b[0m\u001b[0;34m,\u001b[0m \u001b[0mconta_da_dani\u001b[0m\u001b[0;34m]\u001b[0m\u001b[0;34m\u001b[0m\u001b[0;34m\u001b[0m\u001b[0m\n",
            "\u001b[0;31mAttributeError\u001b[0m: 'int' object has no attribute 'deposita'"
          ]
        }
      ]
    },
    {
      "cell_type": "markdown",
      "metadata": {
        "id": "9jhSLiE77xyJ"
      },
      "source": [
        "Uso tradicional indicado, recomendado e etc. de uma lista é, uma sequência em que eu tenho acesso aleatório, eu posso falar o primeiro, décimo quinto elemento, de valores de objetos que eu posso acessar,o que eu estou tentando fazer aqui? Eu estou tentando dar significado para cada uma das posições.\n",
        "A lista não foi feita para ser trabalhada dessa maneira, quando queremos trabalhar que posições específicas significam coisas diferentes e se significam coisas diferentes é porque provavelmente são de tipos diferentes."
      ]
    },
    {
      "cell_type": "code",
      "metadata": {
        "id": "GCeplZ40-lOS",
        "colab": {
          "base_uri": "https://localhost:8080/"
        },
        "outputId": "24e2966e-50f8-425a-d520-3fc3709fc406"
      },
      "source": [
        "Jefferson = (\"Jefferson\", 26, 1995) #Tupla\n",
        "Dani = (\"Daniele\",25,1996)\n",
        "print(Jefferson)"
      ],
      "execution_count": null,
      "outputs": [
        {
          "output_type": "stream",
          "name": "stdout",
          "text": [
            "('Jefferson', 26, 1995)\n"
          ]
        }
      ]
    },
    {
      "cell_type": "code",
      "metadata": {
        "colab": {
          "base_uri": "https://localhost:8080/"
        },
        "id": "hjiTXBhoBtWP",
        "outputId": "e69bdeda-7c40-4b81-f010-c9998fcd60e8"
      },
      "source": [
        "conta_do_jeh = (10, 1000)\n",
        "conta_do_jeh[0]"
      ],
      "execution_count": null,
      "outputs": [
        {
          "output_type": "execute_result",
          "data": {
            "text/plain": [
              "10"
            ]
          },
          "metadata": {},
          "execution_count": 25
        }
      ]
    },
    {
      "cell_type": "code",
      "metadata": {
        "colab": {
          "base_uri": "https://localhost:8080/"
        },
        "id": "_gi-ZJO0CEUs",
        "outputId": "0db84b94-aada-4714-eec4-12c3b2e8db7e"
      },
      "source": [
        "def deposita(conta): #Variação \"Funcional\" (Separando Comportamento dos dados.)\n",
        "  novo_saldo = conta[1] + 100\n",
        "  codigo = conta[0]\n",
        "  return (codigo, novo_saldo)\n",
        "\n",
        "deposita(conta_do_jeh)"
      ],
      "execution_count": null,
      "outputs": [
        {
          "output_type": "execute_result",
          "data": {
            "text/plain": [
              "(10, 1100)"
            ]
          },
          "metadata": {},
          "execution_count": 26
        }
      ]
    },
    {
      "cell_type": "code",
      "metadata": {
        "colab": {
          "base_uri": "https://localhost:8080/"
        },
        "id": "Z7fqrNo-DAG-",
        "outputId": "44f0f273-6164-44f6-fb78-46828ca6c5d6"
      },
      "source": [
        "conta_do_jeh"
      ],
      "execution_count": null,
      "outputs": [
        {
          "output_type": "execute_result",
          "data": {
            "text/plain": [
              "(10, 1000)"
            ]
          },
          "metadata": {},
          "execution_count": 27
        }
      ]
    },
    {
      "cell_type": "code",
      "metadata": {
        "colab": {
          "base_uri": "https://localhost:8080/"
        },
        "id": "pLIJN8YxFPwX",
        "outputId": "b3f7df24-6817-40b8-fa32-70d201ee38ab"
      },
      "source": [
        "usuarios = [Jefferson, Dani]\n",
        "usuarios"
      ],
      "execution_count": null,
      "outputs": [
        {
          "output_type": "execute_result",
          "data": {
            "text/plain": [
              "[('Jefferson', 26, 1995), ('Daniele', 25, 1996)]"
            ]
          },
          "metadata": {},
          "execution_count": 30
        }
      ]
    },
    {
      "cell_type": "code",
      "metadata": {
        "colab": {
          "base_uri": "https://localhost:8080/"
        },
        "id": "rf8WdOmuFkP-",
        "outputId": "30f35c69-da1b-48e4-8ed2-5c6188a600a5"
      },
      "source": [
        "usuarios.append((\"Paulo\",24,1997))\n",
        "usuarios"
      ],
      "execution_count": null,
      "outputs": [
        {
          "output_type": "execute_result",
          "data": {
            "text/plain": [
              "[('Jefferson', 26, 1995), ('Daniele', 25, 1996), ('Paulo', 24, 1997)]"
            ]
          },
          "metadata": {},
          "execution_count": 31
        }
      ]
    },
    {
      "cell_type": "code",
      "metadata": {
        "id": "L7ivMG3tF44r"
      },
      "source": [
        "conta_do_jeh = ContaCorrente(10)\n",
        "conta_do_jeh.deposita(500)\n",
        "conta_da_dani = ContaCorrente(15)\n",
        "conta_da_dani.deposita(1000)\n",
        "\n",
        "contas = (conta_do_jeh, conta_da_dani)"
      ],
      "execution_count": null,
      "outputs": []
    },
    {
      "cell_type": "code",
      "metadata": {
        "colab": {
          "base_uri": "https://localhost:8080/"
        },
        "id": "FWnGbCCPGqsc",
        "outputId": "c426eabb-4e5f-4cb6-de78-6af8985595db"
      },
      "source": [
        "for conta in contas:\n",
        "  print(conta)"
      ],
      "execution_count": null,
      "outputs": [
        {
          "output_type": "stream",
          "name": "stdout",
          "text": [
            "[>>Codigo 10 Saldo 500<<]\n",
            "[>>Codigo 15 Saldo 1000<<]\n"
          ]
        }
      ]
    },
    {
      "cell_type": "code",
      "metadata": {
        "colab": {
          "base_uri": "https://localhost:8080/"
        },
        "id": "jqaH0DKLG1iD",
        "outputId": "d4ce1032-ed9e-4edf-ea60-4df3675212d1"
      },
      "source": [
        "contas[0].deposita(300)\n",
        "for conta in contas:\n",
        "  print(conta)"
      ],
      "execution_count": null,
      "outputs": [
        {
          "output_type": "stream",
          "name": "stdout",
          "text": [
            "[>>Codigo 10 Saldo 1100<<]\n",
            "[>>Codigo 15 Saldo 1000<<]\n"
          ]
        }
      ]
    },
    {
      "cell_type": "markdown",
      "metadata": {
        "id": "Hqr3i_LfJWTG"
      },
      "source": [
        "# **Polimorfismo e arrays**"
      ]
    },
    {
      "cell_type": "code",
      "metadata": {
        "id": "0d6CtaagJcW7"
      },
      "source": [
        "class Conta():\n",
        "  \n",
        "  def __init__(self, codigo):\n",
        "    self._codigo = codigo\n",
        "    self._saldo = 0\n",
        "  \n",
        "  def deposita(self, valor):\n",
        "    self._saldo += valor\n",
        "  \n",
        "  def __str__(self):\n",
        "    return \"[>>Codigo {} Saldo {}<<]\".format(self._codigo, self._saldo)"
      ],
      "execution_count": null,
      "outputs": []
    },
    {
      "cell_type": "code",
      "metadata": {
        "colab": {
          "base_uri": "https://localhost:8080/"
        },
        "id": "Axk8S8KxJ-HL",
        "outputId": "632fa7fc-be00-4b03-b883-d11d6f853dc6"
      },
      "source": [
        "print(Conta(10))"
      ],
      "execution_count": null,
      "outputs": [
        {
          "output_type": "stream",
          "name": "stdout",
          "text": [
            "[>>Codigo 10 Saldo 0<<]\n"
          ]
        }
      ]
    },
    {
      "cell_type": "code",
      "metadata": {
        "id": "9sqIPUIAKbAd"
      },
      "source": [
        "class ContaCorrente(Conta):\n",
        "\n",
        "  def passa_o_mes(self):\n",
        "    self._saldo -= 2\n",
        "\n",
        "class ContaPoupanca(Conta):\n",
        "\n",
        "  def passa_o_mes(self):\n",
        "    self._saldo *= 1.01\n",
        "    self._saldo -= 3"
      ],
      "execution_count": null,
      "outputs": []
    },
    {
      "cell_type": "code",
      "metadata": {
        "colab": {
          "base_uri": "https://localhost:8080/"
        },
        "id": "0moo5hYBLLId",
        "outputId": "93181d68-cec2-4f69-d61b-b0177c540876"
      },
      "source": [
        "conta16 = ContaCorrente(16)\n",
        "conta16.deposita(1000)\n",
        "conta16.passa_o_mes()\n",
        "print(conta16)"
      ],
      "execution_count": null,
      "outputs": [
        {
          "output_type": "stream",
          "name": "stdout",
          "text": [
            "[>>Codigo 16 Saldo 998<<]\n"
          ]
        }
      ]
    },
    {
      "cell_type": "code",
      "metadata": {
        "colab": {
          "base_uri": "https://localhost:8080/"
        },
        "id": "IoUmCHgeLtss",
        "outputId": "24f0f4f3-7efb-434e-eccc-5a9e03f502cb"
      },
      "source": [
        "conta17 = ContaPoupanca(17)\n",
        "conta17.deposita(1000)\n",
        "conta17.passa_o_mes()\n",
        "print(conta17)"
      ],
      "execution_count": null,
      "outputs": [
        {
          "output_type": "stream",
          "name": "stdout",
          "text": [
            "[>>Codigo 17 Saldo 1007.0<<]\n"
          ]
        }
      ]
    },
    {
      "cell_type": "code",
      "metadata": {
        "colab": {
          "base_uri": "https://localhost:8080/"
        },
        "id": "oMqpNlCwUnK0",
        "outputId": "fd5ce71c-1dda-42ea-ed82-be0cd445e06b"
      },
      "source": [
        "conta16 = ContaCorrente(16)\n",
        "conta16.deposita(1000)\n",
        "conta17 = ContaPoupanca(17)\n",
        "conta17.deposita(1000)\n",
        "contas = [conta16, conta17]\n",
        "\n",
        "for conta in contas:\n",
        "  conta.passa_o_mes() #Duck typing\n",
        "  print(conta)"
      ],
      "execution_count": null,
      "outputs": [
        {
          "output_type": "stream",
          "name": "stdout",
          "text": [
            "[>>Codigo 16 Saldo 998<<]\n",
            "[>>Codigo 17 Saldo 1007.0<<]\n"
          ]
        }
      ]
    },
    {
      "cell_type": "markdown",
      "metadata": {
        "id": "2w1UJdryj5gZ"
      },
      "source": [
        "# **Evitaremos usar array puro. se precisarmos de trabalho numerico é de costume usar numpy**"
      ]
    },
    {
      "cell_type": "code",
      "metadata": {
        "colab": {
          "base_uri": "https://localhost:8080/"
        },
        "id": "zX-q6wuikH-D",
        "outputId": "1e5228d0-7fba-4818-f351-ddcd5557342a"
      },
      "source": [
        "import array as arr\n",
        "\n",
        "arr.array('d',[1, 3.5]) #não seria possivel colocar string dentro desse array"
      ],
      "execution_count": null,
      "outputs": [
        {
          "output_type": "execute_result",
          "data": {
            "text/plain": [
              "array('d', [1.0, 3.5])"
            ]
          },
          "metadata": {},
          "execution_count": 1
        }
      ]
    },
    {
      "cell_type": "code",
      "metadata": {
        "colab": {
          "base_uri": "https://localhost:8080/"
        },
        "id": "Zv2V3HzalFHG",
        "outputId": "fe3c273c-ca26-4a2b-ad5b-b5a92dc122da"
      },
      "source": [
        "!pip install numpy"
      ],
      "execution_count": null,
      "outputs": [
        {
          "output_type": "stream",
          "name": "stdout",
          "text": [
            "Requirement already satisfied: numpy in /usr/local/lib/python3.7/dist-packages (1.19.5)\n"
          ]
        }
      ]
    },
    {
      "cell_type": "code",
      "metadata": {
        "colab": {
          "base_uri": "https://localhost:8080/"
        },
        "id": "PLaAfV8blcPt",
        "outputId": "227d3f20-6db2-4478-d29d-c39ea38ae6ca"
      },
      "source": [
        "import numpy as np\n",
        "np.array([1,3.5])"
      ],
      "execution_count": null,
      "outputs": [
        {
          "output_type": "execute_result",
          "data": {
            "text/plain": [
              "array([1. , 3.5])"
            ]
          },
          "metadata": {},
          "execution_count": 3
        }
      ]
    },
    {
      "cell_type": "code",
      "metadata": {
        "colab": {
          "base_uri": "https://localhost:8080/"
        },
        "id": "lR3J6seOlwyw",
        "outputId": "1334d6a7-ebed-499a-d316-a91133a4083c"
      },
      "source": [
        "numero = np.array([1,3.5])\n",
        "\n",
        "numero"
      ],
      "execution_count": null,
      "outputs": [
        {
          "output_type": "execute_result",
          "data": {
            "text/plain": [
              "array([1. , 3.5])"
            ]
          },
          "metadata": {},
          "execution_count": 5
        }
      ]
    },
    {
      "cell_type": "code",
      "metadata": {
        "colab": {
          "base_uri": "https://localhost:8080/"
        },
        "id": "Mogm8pZbl8Ro",
        "outputId": "c6aeafd3-2e7c-4a6a-be39-6bf075ad592a"
      },
      "source": [
        "numero + 3"
      ],
      "execution_count": null,
      "outputs": [
        {
          "output_type": "execute_result",
          "data": {
            "text/plain": [
              "array([4. , 6.5])"
            ]
          },
          "metadata": {},
          "execution_count": 6
        }
      ]
    },
    {
      "cell_type": "markdown",
      "metadata": {
        "id": "dKVgMfucntNa"
      },
      "source": [
        "# **Abstract Class, Abstract Method, Classe Abstrata.**"
      ]
    },
    {
      "cell_type": "code",
      "metadata": {
        "id": "7r79zyYtn2xW"
      },
      "source": [
        "from abc import ABCMeta, abstractmethod\n",
        "\n",
        "class Conta(metaclass=ABCMeta):\n",
        "  \n",
        "  def __init__(self, codigo):\n",
        "    self._codigo = codigo\n",
        "    self._saldo = 0\n",
        "  \n",
        "  def deposita(self, valor):\n",
        "    self._saldo += valor\n",
        "  \n",
        "  @abstractmethod\n",
        "  def passa_o_mes(self):\n",
        "    pass\n",
        "\n",
        "  def __str__(self):\n",
        "    return \"[>>Codigo {} Saldo {}<<]\".format(self._codigo, self._saldo)"
      ],
      "execution_count": null,
      "outputs": []
    },
    {
      "cell_type": "code",
      "metadata": {
        "id": "Oy9Fca6Xn5mV"
      },
      "source": [
        "class ContaCorrente(Conta):\n",
        "\n",
        "  def passa_o_mes(self):\n",
        "    self._saldo -= 2\n",
        "\n",
        "class ContaPoupanca(Conta):\n",
        "\n",
        "  def passa_o_mes(self):\n",
        "    self._saldo *= 1.01\n",
        "    self._saldo -= 3\n",
        "\n",
        "class ContaInvestimento(Conta):\n",
        "  pass"
      ],
      "execution_count": null,
      "outputs": []
    },
    {
      "cell_type": "code",
      "metadata": {
        "colab": {
          "base_uri": "https://localhost:8080/",
          "height": 165
        },
        "id": "QYVjgRhToLho",
        "outputId": "a15a7223-4ab9-4e3d-86e0-5c5cd0e18d7f"
      },
      "source": [
        "ContaInvestimento(15)"
      ],
      "execution_count": null,
      "outputs": [
        {
          "output_type": "error",
          "ename": "TypeError",
          "evalue": "ignored",
          "traceback": [
            "\u001b[0;31m---------------------------------------------------------------------------\u001b[0m",
            "\u001b[0;31mTypeError\u001b[0m                                 Traceback (most recent call last)",
            "\u001b[0;32m<ipython-input-18-29a682730302>\u001b[0m in \u001b[0;36m<module>\u001b[0;34m()\u001b[0m\n\u001b[0;32m----> 1\u001b[0;31m \u001b[0mContaInvestimento\u001b[0m\u001b[0;34m(\u001b[0m\u001b[0;36m15\u001b[0m\u001b[0;34m)\u001b[0m\u001b[0;34m\u001b[0m\u001b[0;34m\u001b[0m\u001b[0m\n\u001b[0m",
            "\u001b[0;31mTypeError\u001b[0m: Can't instantiate abstract class ContaInvestimento with abstract methods passa_o_mes"
          ]
        }
      ]
    },
    {
      "cell_type": "code",
      "metadata": {
        "colab": {
          "base_uri": "https://localhost:8080/"
        },
        "id": "hcWLdUEwpKW6",
        "outputId": "cdeda927-f636-46b1-84d4-febe4c6edc29"
      },
      "source": [
        "conta17 = ContaPoupanca(17)\n",
        "conta17.deposita(1000)\n",
        "conta17.passa_o_mes()\n",
        "print(conta17)\n",
        "\n",
        "conta16 = ContaCorrente(16)\n",
        "conta16.deposita(1000)\n",
        "conta16.passa_o_mes()\n",
        "print(conta16)"
      ],
      "execution_count": null,
      "outputs": [
        {
          "output_type": "stream",
          "name": "stdout",
          "text": [
            "[>>Codigo 17 Saldo 1007.0<<]\n",
            "[>>Codigo 16 Saldo 998<<]\n"
          ]
        }
      ]
    },
    {
      "cell_type": "markdown",
      "metadata": {
        "id": "Dj-iTgFEyLKt"
      },
      "source": [
        "#**Igualdade e o eq (EQUALS)**"
      ]
    },
    {
      "cell_type": "code",
      "metadata": {
        "id": "13w1ineMygLo"
      },
      "source": [
        "class ContaSalario():\n",
        "  def __init__(self,codigo):\n",
        "    self._codigo = codigo\n",
        "    self._saldo = 0\n",
        "  \n",
        "  def deposita(self, valor):\n",
        "    self._saldo += valor\n",
        "  \n",
        "  def __str__(self):\n",
        "    return \"[>> Codigo {} Saldo {} <<]\".format(self._codigo, self._saldo)"
      ],
      "execution_count": null,
      "outputs": []
    },
    {
      "cell_type": "code",
      "metadata": {
        "colab": {
          "base_uri": "https://localhost:8080/"
        },
        "id": "lgWszDQ9zLrq",
        "outputId": "4873a0bb-785a-42a4-a9f6-417db6a16a70"
      },
      "source": [
        "Conta1 = ContaSalario(37)\n",
        "print(Conta1)"
      ],
      "execution_count": null,
      "outputs": [
        {
          "output_type": "stream",
          "name": "stdout",
          "text": [
            "[>> Codigo 37 Saldo 0 <<]\n"
          ]
        }
      ]
    },
    {
      "cell_type": "code",
      "metadata": {
        "colab": {
          "base_uri": "https://localhost:8080/"
        },
        "id": "W9DY29o-zd3t",
        "outputId": "64a93993-5c21-4ec0-9d32-88752c009b19"
      },
      "source": [
        "Conta2 = ContaSalario(37)\n",
        "print(Conta2)"
      ],
      "execution_count": null,
      "outputs": [
        {
          "output_type": "stream",
          "name": "stdout",
          "text": [
            "[>> Codigo 37 Saldo 0 <<]\n"
          ]
        }
      ]
    },
    {
      "cell_type": "code",
      "metadata": {
        "colab": {
          "base_uri": "https://localhost:8080/"
        },
        "id": "uaaPLp3rzpRk",
        "outputId": "bc1d2c91-975d-4870-a06d-79325579bf1e"
      },
      "source": [
        "Conta1 == Conta2"
      ],
      "execution_count": null,
      "outputs": [
        {
          "output_type": "execute_result",
          "data": {
            "text/plain": [
              "False"
            ]
          },
          "metadata": {},
          "execution_count": 8
        }
      ]
    },
    {
      "cell_type": "code",
      "metadata": {
        "colab": {
          "base_uri": "https://localhost:8080/"
        },
        "id": "AU3ieD7J0bSJ",
        "outputId": "cd0fab7c-3855-4def-ea68-cef4c1f76ff5"
      },
      "source": [
        "contas = [Conta1]\n",
        "Conta1 in contas"
      ],
      "execution_count": null,
      "outputs": [
        {
          "output_type": "execute_result",
          "data": {
            "text/plain": [
              "True"
            ]
          },
          "metadata": {},
          "execution_count": 9
        }
      ]
    },
    {
      "cell_type": "code",
      "metadata": {
        "colab": {
          "base_uri": "https://localhost:8080/"
        },
        "id": "1ufwHJZd0hJp",
        "outputId": "cfc8d7b6-4889-4a82-8788-9120a1f1273e"
      },
      "source": [
        "Conta2 in contas"
      ],
      "execution_count": null,
      "outputs": [
        {
          "output_type": "execute_result",
          "data": {
            "text/plain": [
              "False"
            ]
          },
          "metadata": {},
          "execution_count": 10
        }
      ]
    },
    {
      "cell_type": "code",
      "metadata": {
        "id": "E5xtpcyA00M4"
      },
      "source": [
        "class ContaSalario():\n",
        "  def __init__(self, codigo):\n",
        "    self._codigo = codigo\n",
        "    self._saldo = 0\n",
        "  \n",
        "  def __eq__(self, outro):\n",
        "    return self._codigo == outro._codigo\n",
        "\n",
        "    \n",
        "  def deposita(self, valor):\n",
        "    self._saldo += valor\n",
        "  \n",
        "  def __str__(self):\n",
        "    return \"[>> Codigo {} Saldo {} <<]\".format(self.codigo, self.saldo)"
      ],
      "execution_count": null,
      "outputs": []
    },
    {
      "cell_type": "code",
      "metadata": {
        "colab": {
          "base_uri": "https://localhost:8080/"
        },
        "id": "QUTaj8g_1cpf",
        "outputId": "5c7ba222-6d9f-4478-8f1b-7c9800080c5a"
      },
      "source": [
        "conta1 = ContaSalario(37)\n",
        "conta2 = ContaSalario(37)\n",
        "conta1 == conta2"
      ],
      "execution_count": null,
      "outputs": [
        {
          "output_type": "execute_result",
          "data": {
            "text/plain": [
              "True"
            ]
          },
          "metadata": {},
          "execution_count": 12
        }
      ]
    },
    {
      "cell_type": "code",
      "metadata": {
        "colab": {
          "base_uri": "https://localhost:8080/"
        },
        "id": "iBJvDUzP2KS-",
        "outputId": "08bce28f-c147-4621-f2a4-bae259443550"
      },
      "source": [
        "conta1 != conta2"
      ],
      "execution_count": null,
      "outputs": [
        {
          "output_type": "execute_result",
          "data": {
            "text/plain": [
              "False"
            ]
          },
          "metadata": {},
          "execution_count": 13
        }
      ]
    },
    {
      "cell_type": "code",
      "metadata": {
        "colab": {
          "base_uri": "https://localhost:8080/"
        },
        "id": "SVLIAnYL2aqc",
        "outputId": "312656fb-22e2-43f1-fa45-33648b6b44b8"
      },
      "source": [
        "conta1 in [conta2]"
      ],
      "execution_count": null,
      "outputs": [
        {
          "output_type": "execute_result",
          "data": {
            "text/plain": [
              "True"
            ]
          },
          "metadata": {},
          "execution_count": 14
        }
      ]
    },
    {
      "cell_type": "code",
      "metadata": {
        "colab": {
          "base_uri": "https://localhost:8080/"
        },
        "id": "GqXsB_9E2eAc",
        "outputId": "2f298bda-2221-4ba3-cf50-013ebbfdddeb"
      },
      "source": [
        "conta2 in [conta1]"
      ],
      "execution_count": null,
      "outputs": [
        {
          "output_type": "execute_result",
          "data": {
            "text/plain": [
              "True"
            ]
          },
          "metadata": {},
          "execution_count": 15
        }
      ]
    },
    {
      "cell_type": "code",
      "metadata": {
        "id": "LdftQdo_56xp"
      },
      "source": [
        "class ContaSalario():\n",
        "\n",
        "  def __init__(self, codigo):\n",
        "    self._codigo = codigo\n",
        "    self._saldo = 0\n",
        "\n",
        "  def __eq__(self, outro):\n",
        "    return self._codigo == outro._codigo and self._saldo == outro._saldo\n",
        "  \n",
        "  def deposita(self, valor):\n",
        "    self._saldo += valor\n",
        "  \n",
        "  def __str__(self):\n",
        "    return \"[>> Codigo {} Saldo {} <<\".format(self._codigo, self._saldo)"
      ],
      "execution_count": null,
      "outputs": []
    },
    {
      "cell_type": "code",
      "metadata": {
        "colab": {
          "base_uri": "https://localhost:8080/"
        },
        "id": "LCXPv1zE6pkW",
        "outputId": "406e2517-c161-4ce6-b458-9415d2980d45"
      },
      "source": [
        "conta1 = ContaSalario(37)\n",
        "conta2 = ContaSalario(37)\n",
        "conta1 == conta2"
      ],
      "execution_count": null,
      "outputs": [
        {
          "output_type": "execute_result",
          "data": {
            "text/plain": [
              "True"
            ]
          },
          "metadata": {},
          "execution_count": 43
        }
      ]
    },
    {
      "cell_type": "code",
      "metadata": {
        "colab": {
          "base_uri": "https://localhost:8080/"
        },
        "id": "j0IrdGxo7BGd",
        "outputId": "e0a6ad8e-8873-4563-f319-eecc39bf473f"
      },
      "source": [
        "conta1.deposita(10)\n",
        "print(conta1)"
      ],
      "execution_count": null,
      "outputs": [
        {
          "output_type": "stream",
          "name": "stdout",
          "text": [
            "[>> Codigo 37 Saldo 20 <<\n"
          ]
        }
      ]
    },
    {
      "cell_type": "code",
      "metadata": {
        "colab": {
          "base_uri": "https://localhost:8080/"
        },
        "id": "ZLLsqBXF-Ygj",
        "outputId": "3f01c307-b6cb-4b9b-8abe-b648b45c8999"
      },
      "source": [
        "conta1 == conta2"
      ],
      "execution_count": null,
      "outputs": [
        {
          "output_type": "execute_result",
          "data": {
            "text/plain": [
              "False"
            ]
          },
          "metadata": {},
          "execution_count": 46
        }
      ]
    },
    {
      "cell_type": "code",
      "metadata": {
        "id": "9MuYxTNM_Nbx"
      },
      "source": [
        "class ContaSalario():\n",
        "\n",
        "  def __init__(self, codigo):\n",
        "    self._codigo = codigo\n",
        "    self._saldo = 0\n",
        "\n",
        "  def __eq__(self, outro):\n",
        "    if type(outro) != ContaSalario:\n",
        "      return False\n",
        "      \n",
        "    return self._codigo == outro._codigo and self._saldo == outro._saldo\n",
        "  \n",
        "  def deposita(self, valor):\n",
        "    self._saldo += valor\n",
        "  \n",
        "  def __str__(self):\n",
        "    return \"[>> Codigo {} Saldo {} <<\".format(self._codigo, self._saldo)"
      ],
      "execution_count": null,
      "outputs": []
    },
    {
      "cell_type": "code",
      "metadata": {
        "id": "B5PgSHpI_2hP"
      },
      "source": [
        "conta1 = ContaSalario(37)\n",
        "conta2 = ContaCorrente(37)"
      ],
      "execution_count": null,
      "outputs": []
    },
    {
      "cell_type": "code",
      "metadata": {
        "colab": {
          "base_uri": "https://localhost:8080/"
        },
        "id": "e002mP5LAHJw",
        "outputId": "bc0621f7-bcc4-471d-fee5-60a336869813"
      },
      "source": [
        "conta1 == conta2"
      ],
      "execution_count": null,
      "outputs": [
        {
          "output_type": "execute_result",
          "data": {
            "text/plain": [
              "False"
            ]
          },
          "metadata": {},
          "execution_count": 53
        }
      ]
    },
    {
      "cell_type": "code",
      "metadata": {
        "colab": {
          "base_uri": "https://localhost:8080/"
        },
        "id": "jUWsV57MBDR_",
        "outputId": "b24af26e-89d6-4827-d980-f29abe668a8c"
      },
      "source": [
        "isinstance(ContaCorrente(34), ContaCorrente)"
      ],
      "execution_count": null,
      "outputs": [
        {
          "output_type": "execute_result",
          "data": {
            "text/plain": [
              "True"
            ]
          },
          "metadata": {},
          "execution_count": 54
        }
      ]
    },
    {
      "cell_type": "code",
      "metadata": {
        "id": "xfPuMXvQB6_1",
        "colab": {
          "base_uri": "https://localhost:8080/"
        },
        "outputId": "8c5f5413-ad5b-4a53-f1aa-ace7af792dab"
      },
      "source": [
        "isinstance(ContaCorrente(34), Conta)"
      ],
      "execution_count": null,
      "outputs": [
        {
          "output_type": "execute_result",
          "data": {
            "text/plain": [
              "True"
            ]
          },
          "metadata": {},
          "execution_count": 55
        }
      ]
    },
    {
      "cell_type": "markdown",
      "metadata": {
        "id": "d2S0LOJXz2nL"
      },
      "source": [
        "# **Outros Builtins, Range, Enumerated, Desempacotar tuplas.**"
      ]
    },
    {
      "cell_type": "code",
      "metadata": {
        "colab": {
          "base_uri": "https://localhost:8080/"
        },
        "id": "MvP5dCZu3iD2",
        "outputId": "3b80ec6a-5b0e-4657-ac8f-ca65a6eb5408"
      },
      "source": [
        "idades = [15, 87, 65, 56, 32, 49, 37]\n",
        "\n",
        "for i in range(len(idades)):\n",
        "  print(i, idades[i])"
      ],
      "execution_count": null,
      "outputs": [
        {
          "output_type": "stream",
          "name": "stdout",
          "text": [
            "0 15\n",
            "1 87\n",
            "2 65\n",
            "3 56\n",
            "4 32\n",
            "5 49\n",
            "6 37\n"
          ]
        }
      ]
    },
    {
      "cell_type": "code",
      "metadata": {
        "colab": {
          "base_uri": "https://localhost:8080/"
        },
        "id": "IQTv_hrK5MOp",
        "outputId": "782ccc97-846d-4fde-e4ef-908a63d03d01"
      },
      "source": [
        "range(len(idades)) #Lazy"
      ],
      "execution_count": null,
      "outputs": [
        {
          "output_type": "execute_result",
          "data": {
            "text/plain": [
              "range(0, 7)"
            ]
          },
          "metadata": {},
          "execution_count": 4
        }
      ]
    },
    {
      "cell_type": "code",
      "metadata": {
        "colab": {
          "base_uri": "https://localhost:8080/"
        },
        "id": "O81U4uIk5P-M",
        "outputId": "6d71f105-045a-4559-dec4-dff595dac113"
      },
      "source": [
        "enumerate(idades) #Lazy"
      ],
      "execution_count": null,
      "outputs": [
        {
          "output_type": "execute_result",
          "data": {
            "text/plain": [
              "<enumerate at 0x7f99ca0b5190>"
            ]
          },
          "metadata": {},
          "execution_count": 5
        }
      ]
    },
    {
      "cell_type": "code",
      "metadata": {
        "colab": {
          "base_uri": "https://localhost:8080/"
        },
        "id": "7HUQKScS5zeX",
        "outputId": "fc4ff18e-404e-4c6c-a38c-32c25705634d"
      },
      "source": [
        "list(range(len(idades)))"
      ],
      "execution_count": null,
      "outputs": [
        {
          "output_type": "execute_result",
          "data": {
            "text/plain": [
              "[0, 1, 2, 3, 4, 5, 6]"
            ]
          },
          "metadata": {},
          "execution_count": 6
        }
      ]
    },
    {
      "cell_type": "code",
      "metadata": {
        "colab": {
          "base_uri": "https://localhost:8080/"
        },
        "id": "425TKlr36IhQ",
        "outputId": "80c977e1-72c5-4d0b-e370-65ae8a8b30fd"
      },
      "source": [
        "list(enumerate(idades))"
      ],
      "execution_count": null,
      "outputs": [
        {
          "output_type": "execute_result",
          "data": {
            "text/plain": [
              "[(0, 15), (1, 87), (2, 65), (3, 56), (4, 32), (5, 49), (6, 37)]"
            ]
          },
          "metadata": {},
          "execution_count": 7
        }
      ]
    },
    {
      "cell_type": "code",
      "metadata": {
        "colab": {
          "base_uri": "https://localhost:8080/"
        },
        "id": "NYNUTh2b69E2",
        "outputId": "4eba43d3-684a-490b-dcd6-47b5201542d7"
      },
      "source": [
        "for valor in enumerate(idades):     #Lazy\n",
        "  print(valor)"
      ],
      "execution_count": null,
      "outputs": [
        {
          "output_type": "stream",
          "name": "stdout",
          "text": [
            "(0, 15)\n",
            "(1, 87)\n",
            "(2, 65)\n",
            "(3, 56)\n",
            "(4, 32)\n",
            "(5, 49)\n",
            "(6, 37)\n"
          ]
        }
      ]
    },
    {
      "cell_type": "code",
      "metadata": {
        "colab": {
          "base_uri": "https://localhost:8080/"
        },
        "id": "XnM3579d7ovl",
        "outputId": "320fb757-6195-4846-ce32-1c1fa924ba16"
      },
      "source": [
        "for indice, idade in enumerate(idades):\n",
        "  print(indice, \"x\", idade)"
      ],
      "execution_count": null,
      "outputs": [
        {
          "output_type": "stream",
          "name": "stdout",
          "text": [
            "0 x 15\n",
            "1 x 87\n",
            "2 x 65\n",
            "3 x 56\n",
            "4 x 32\n",
            "5 x 49\n",
            "6 x 37\n"
          ]
        }
      ]
    },
    {
      "cell_type": "code",
      "metadata": {
        "colab": {
          "base_uri": "https://localhost:8080/"
        },
        "id": "Rmz8jzgr8dIT",
        "outputId": "fa9fff19-42aa-4eff-99d8-f86e75861bdf"
      },
      "source": [
        "usuarios = [\n",
        "           (\"Jefferson\", 26, 1995),\n",
        "           (\"Power\", 25, 1996),\n",
        "           (\"Guido\", 24, 1997)\n",
        "]\n",
        "\n",
        "for usuario in usuarios:\n",
        "  print(usuario)"
      ],
      "execution_count": null,
      "outputs": [
        {
          "output_type": "stream",
          "name": "stdout",
          "text": [
            "('Jefferson', 26, 1995)\n",
            "('Power', 25, 1996)\n",
            "('Guido', 24, 1997)\n"
          ]
        }
      ]
    },
    {
      "cell_type": "code",
      "metadata": {
        "colab": {
          "base_uri": "https://localhost:8080/"
        },
        "id": "xb_g2XTR9AeT",
        "outputId": "3b0bcced-5467-4aa8-eab7-78f89d0e881d"
      },
      "source": [
        "usuarios = [\n",
        "           (\"Jefferson\", 26, 1995),\n",
        "           (\"Power\", 25, 1996),\n",
        "           (\"Guido\", 24, 1997)\n",
        "]\n",
        "\n",
        "for nome, idade, nascimento in usuarios:\n",
        "  print(nome)"
      ],
      "execution_count": null,
      "outputs": [
        {
          "output_type": "stream",
          "name": "stdout",
          "text": [
            "Jefferson\n",
            "Power\n",
            "Guido\n"
          ]
        }
      ]
    },
    {
      "cell_type": "code",
      "metadata": {
        "colab": {
          "base_uri": "https://localhost:8080/"
        },
        "id": "zr1Iv-LH9ox0",
        "outputId": "29d6561a-12fb-4e03-c28f-cc14a53f4859"
      },
      "source": [
        "usuarios = [\n",
        "           (\"Jefferson\", 26, 1995),\n",
        "           (\"Power\", 25, 1996),\n",
        "           (\"Guido\", 24, 1997)\n",
        "]\n",
        "\n",
        "for nome, _, _ in usuarios:\n",
        "  print(nome)"
      ],
      "execution_count": null,
      "outputs": [
        {
          "output_type": "stream",
          "name": "stdout",
          "text": [
            "Jefferson\n",
            "Power\n",
            "Guido\n"
          ]
        }
      ]
    },
    {
      "cell_type": "markdown",
      "metadata": {
        "id": "7D7GTiG5-Hzg"
      },
      "source": [
        "# **Ordem Natural**"
      ]
    },
    {
      "cell_type": "code",
      "metadata": {
        "id": "uGqA9epQ-KuK"
      },
      "source": [
        "idades = [42,33,51,12,49,20,32,16]"
      ],
      "execution_count": null,
      "outputs": []
    },
    {
      "cell_type": "code",
      "metadata": {
        "colab": {
          "base_uri": "https://localhost:8080/"
        },
        "id": "0rgVvZFA-bOR",
        "outputId": "c2551303-0384-48f6-c7dd-1d7704029534"
      },
      "source": [
        "sorted(idades)"
      ],
      "execution_count": null,
      "outputs": [
        {
          "output_type": "execute_result",
          "data": {
            "text/plain": [
              "[12, 16, 20, 32, 33, 42, 49, 51]"
            ]
          },
          "metadata": {},
          "execution_count": 3
        }
      ]
    },
    {
      "cell_type": "code",
      "metadata": {
        "colab": {
          "base_uri": "https://localhost:8080/"
        },
        "id": "2cA6FaLj_FGD",
        "outputId": "92a468dc-ac52-4bdd-d018-8bf8235f08b7"
      },
      "source": [
        "list(reversed(sorted(idades)))"
      ],
      "execution_count": null,
      "outputs": [
        {
          "output_type": "execute_result",
          "data": {
            "text/plain": [
              "[51, 49, 42, 33, 32, 20, 16, 12]"
            ]
          },
          "metadata": {},
          "execution_count": 7
        }
      ]
    },
    {
      "cell_type": "code",
      "metadata": {
        "colab": {
          "base_uri": "https://localhost:8080/"
        },
        "id": "r0HtcFeO_eix",
        "outputId": "aa2cc6bc-b4c1-4d21-dae6-41e8c7c2a139"
      },
      "source": [
        "sorted(idades, reverse=True)"
      ],
      "execution_count": null,
      "outputs": [
        {
          "output_type": "execute_result",
          "data": {
            "text/plain": [
              "[51, 49, 42, 33, 32, 20, 16, 12]"
            ]
          },
          "metadata": {},
          "execution_count": 6
        }
      ]
    },
    {
      "cell_type": "code",
      "metadata": {
        "colab": {
          "base_uri": "https://localhost:8080/"
        },
        "id": "cDwJopXi_64T",
        "outputId": "a61ad1f6-463c-4bf4-8e07-2abd68e77ebd"
      },
      "source": [
        "idades"
      ],
      "execution_count": null,
      "outputs": [
        {
          "output_type": "execute_result",
          "data": {
            "text/plain": [
              "[42, 33, 51, 12, 49, 20, 32, 16]"
            ]
          },
          "metadata": {},
          "execution_count": 8
        }
      ]
    },
    {
      "cell_type": "code",
      "metadata": {
        "id": "OaOunaJ_AFlF"
      },
      "source": [
        "idades.sort()"
      ],
      "execution_count": null,
      "outputs": []
    },
    {
      "cell_type": "code",
      "metadata": {
        "colab": {
          "base_uri": "https://localhost:8080/"
        },
        "id": "Jfzq-Fh_AWeT",
        "outputId": "490e09a4-fbc3-4d0a-8ebd-49ebb51bc88b"
      },
      "source": [
        "idades"
      ],
      "execution_count": null,
      "outputs": [
        {
          "output_type": "execute_result",
          "data": {
            "text/plain": [
              "[12, 16, 20, 32, 33, 42, 49, 51]"
            ]
          },
          "metadata": {},
          "execution_count": 10
        }
      ]
    },
    {
      "cell_type": "code",
      "metadata": {
        "id": "K0G160zjEHh9"
      },
      "source": [
        "nomes = [\"Jefferson\",\"Carla\",\"Paulo\",\"guilherme\"]"
      ],
      "execution_count": null,
      "outputs": []
    },
    {
      "cell_type": "code",
      "metadata": {
        "colab": {
          "base_uri": "https://localhost:8080/"
        },
        "id": "3AbEbbIsEN3A",
        "outputId": "f4ada9e8-e2cb-4f0c-a836-08f74af43ded"
      },
      "source": [
        "sorted(nomes)"
      ],
      "execution_count": null,
      "outputs": [
        {
          "output_type": "execute_result",
          "data": {
            "text/plain": [
              "['Carla', 'Jefferson', 'Paulo', 'guilherme']"
            ]
          },
          "metadata": {},
          "execution_count": 12
        }
      ]
    },
    {
      "cell_type": "code",
      "metadata": {
        "id": "p-yGMIzmEntP"
      },
      "source": [
        "class ContaSalario():\n",
        "\n",
        "  def __init__(self, codigo):\n",
        "    self._codigo = codigo\n",
        "    self._saldo = 0\n",
        "\n",
        "  def __eq__(self, outro):\n",
        "    if type(outro) != ContaSalario:\n",
        "      return False\n",
        "      \n",
        "    return self._codigo == outro._codigo and self._saldo == outro._saldo\n",
        "  \n",
        "  def deposita(self, valor):\n",
        "    self._saldo += valor\n",
        "  \n",
        "  def __str__(self):\n",
        "    return \"[>> Codigo {} Saldo {} <<\".format(self._codigo, self._saldo)"
      ],
      "execution_count": null,
      "outputs": []
    },
    {
      "cell_type": "code",
      "metadata": {
        "id": "2VoCeoz5EqCe"
      },
      "source": [
        "conta_do_jeh = ContaSalario(10)\n",
        "conta_do_jeh.deposita(500)\n",
        "\n",
        "conta_da_carla = ContaSalario(222)\n",
        "conta_da_carla.deposita(1000)\n",
        "\n",
        "conta_do_paulo = ContaSalario(333)\n",
        "conta_do_paulo.deposita(510)"
      ],
      "execution_count": null,
      "outputs": []
    },
    {
      "cell_type": "code",
      "metadata": {
        "id": "yP_GXmVuE-WO"
      },
      "source": [
        "contas = [conta_do_jeh, conta_da_carla, conta_do_paulo]"
      ],
      "execution_count": null,
      "outputs": []
    },
    {
      "cell_type": "code",
      "metadata": {
        "colab": {
          "base_uri": "https://localhost:8080/"
        },
        "id": "N-alXxpUFIuO",
        "outputId": "ca39a93a-a6d2-4630-cfdc-215fd2c14af8"
      },
      "source": [
        "for conta in contas:\n",
        "  print(conta)"
      ],
      "execution_count": null,
      "outputs": [
        {
          "output_type": "stream",
          "name": "stdout",
          "text": [
            "[>> Codigo 10 Saldo 500 <<\n",
            "[>> Codigo 222 Saldo 1000 <<\n",
            "[>> Codigo 333 Saldo 510 <<\n"
          ]
        }
      ]
    },
    {
      "cell_type": "code",
      "metadata": {
        "colab": {
          "base_uri": "https://localhost:8080/"
        },
        "id": "LURbO_9XFan9",
        "outputId": "c730521b-e847-4bfa-e51c-e0d2f4e64a8a"
      },
      "source": [
        "def extrai_saldo(conta):\n",
        "  return conta._saldo\n",
        "\n",
        "for conta in sorted(contas, key=extrai_saldo):\n",
        "  print(conta)"
      ],
      "execution_count": null,
      "outputs": [
        {
          "output_type": "stream",
          "name": "stdout",
          "text": [
            "[>> Codigo 10 Saldo 500 <<\n",
            "[>> Codigo 333 Saldo 510 <<\n",
            "[>> Codigo 222 Saldo 1000 <<\n"
          ]
        }
      ]
    },
    {
      "cell_type": "code",
      "metadata": {
        "id": "N_qKX_PTGdZv"
      },
      "source": [
        "from operator import attrgetter"
      ],
      "execution_count": null,
      "outputs": []
    },
    {
      "cell_type": "code",
      "metadata": {
        "colab": {
          "base_uri": "https://localhost:8080/"
        },
        "id": "WaUOjGZNGoA5",
        "outputId": "79da28e2-cc6b-4d55-e16f-c07a41d2e498"
      },
      "source": [
        "for conta in sorted(contas, key=attrgetter(\"_saldo\")):\n",
        "  print(conta)"
      ],
      "execution_count": null,
      "outputs": [
        {
          "output_type": "stream",
          "name": "stdout",
          "text": [
            "[>> Codigo 10 Saldo 500 <<\n",
            "[>> Codigo 333 Saldo 510 <<\n",
            "[>> Codigo 222 Saldo 1000 <<\n"
          ]
        }
      ]
    },
    {
      "cell_type": "code",
      "metadata": {
        "id": "LdmxjiBAjNoz"
      },
      "source": [
        "class ContaSalario():\n",
        "\n",
        "  def __init__(self, codigo):\n",
        "    self._codigo = codigo\n",
        "    self._saldo = 0\n",
        "\n",
        "  def __eq__(self, outro):\n",
        "    if type(outro) != ContaSalario:\n",
        "      return False\n",
        "      \n",
        "    return self._codigo == outro._codigo and self._saldo == outro._saldo\n",
        "  \n",
        "  def __lt__(self, outro):\n",
        "    return self._saldo < outro._saldo\n",
        "\n",
        "  def deposita(self, valor):\n",
        "    self._saldo += valor\n",
        "  \n",
        "  def __str__(self):\n",
        "    return \"[>> Codigo {} Saldo {} <<\".format(self._codigo, self._saldo)"
      ],
      "execution_count": null,
      "outputs": []
    },
    {
      "cell_type": "code",
      "metadata": {
        "id": "I0rJQlpNjsWL"
      },
      "source": [
        "conta_do_jeh = ContaSalario(10)\n",
        "conta_do_jeh.deposita(500)\n",
        "\n",
        "conta_da_carla = ContaSalario(222)\n",
        "conta_da_carla.deposita(1000)\n",
        "\n",
        "conta_do_paulo = ContaSalario(333)\n",
        "conta_do_paulo.deposita(510)"
      ],
      "execution_count": null,
      "outputs": []
    },
    {
      "cell_type": "code",
      "metadata": {
        "id": "MwfgAaExjtxy"
      },
      "source": [
        "contas = [conta_do_jeh, conta_da_carla, conta_do_paulo]"
      ],
      "execution_count": null,
      "outputs": []
    },
    {
      "cell_type": "code",
      "metadata": {
        "colab": {
          "base_uri": "https://localhost:8080/"
        },
        "id": "G5SrtRG-jzvr",
        "outputId": "c942a918-80e6-44a1-e9fa-d430ce31fd68"
      },
      "source": [
        "for conta in sorted(contas):\n",
        "  print(conta)"
      ],
      "execution_count": null,
      "outputs": [
        {
          "output_type": "stream",
          "name": "stdout",
          "text": [
            "[>> Codigo 10 Saldo 500 <<\n",
            "[>> Codigo 333 Saldo 510 <<\n",
            "[>> Codigo 222 Saldo 1000 <<\n"
          ]
        }
      ]
    },
    {
      "cell_type": "code",
      "metadata": {
        "colab": {
          "base_uri": "https://localhost:8080/"
        },
        "id": "lKTZcWeXkJvS",
        "outputId": "e35a3dc6-f63f-4711-fc58-a74cdcbeab6c"
      },
      "source": [
        "conta_do_jeh < conta_da_carla"
      ],
      "execution_count": null,
      "outputs": [
        {
          "output_type": "execute_result",
          "data": {
            "text/plain": [
              "True"
            ]
          },
          "metadata": {},
          "execution_count": 5
        }
      ]
    },
    {
      "cell_type": "code",
      "metadata": {
        "colab": {
          "base_uri": "https://localhost:8080/"
        },
        "id": "sJt2sjp3kNcC",
        "outputId": "e290d669-4027-48cd-853e-23b49a365be2"
      },
      "source": [
        "conta_do_jeh > conta_da_carla"
      ],
      "execution_count": null,
      "outputs": [
        {
          "output_type": "execute_result",
          "data": {
            "text/plain": [
              "False"
            ]
          },
          "metadata": {},
          "execution_count": 6
        }
      ]
    },
    {
      "cell_type": "code",
      "metadata": {
        "colab": {
          "base_uri": "https://localhost:8080/"
        },
        "id": "wxL_3O3ZkxEf",
        "outputId": "a76a0f55-028e-4ae2-b9c3-df3eb562f17f"
      },
      "source": [
        "for conta in sorted(contas, reverse=True):\n",
        "  print(conta)"
      ],
      "execution_count": null,
      "outputs": [
        {
          "output_type": "stream",
          "name": "stdout",
          "text": [
            "[>> Codigo 222 Saldo 1000 <<\n",
            "[>> Codigo 333 Saldo 510 <<\n",
            "[>> Codigo 10 Saldo 500 <<\n"
          ]
        }
      ]
    },
    {
      "cell_type": "markdown",
      "metadata": {
        "id": "Lo2O85iupQh8"
      },
      "source": [
        "# **Ordenação Total**"
      ]
    },
    {
      "cell_type": "code",
      "metadata": {
        "id": "OhUokGGnpTok"
      },
      "source": [
        "class ContaSalario():\n",
        "\n",
        "  def __init__(self, codigo):\n",
        "    self._codigo = codigo\n",
        "    self._saldo = 0\n",
        "\n",
        "  def __eq__(self, outro):\n",
        "    if type(outro) != ContaSalario:\n",
        "      return False\n",
        "      \n",
        "    return self._codigo == outro._codigo and self._saldo == outro._saldo\n",
        "  \n",
        "  def __lt__(self, outro):\n",
        "    return self._saldo < outro._saldo\n",
        "\n",
        "  def deposita(self, valor):\n",
        "    self._saldo += valor\n",
        "  \n",
        "  def __str__(self):\n",
        "    return \"[>> Codigo {} Saldo {} <<\".format(self._codigo, self._saldo)"
      ],
      "execution_count": null,
      "outputs": []
    },
    {
      "cell_type": "code",
      "metadata": {
        "id": "Wn-YUQNGpXr-"
      },
      "source": [
        "conta_do_jeh = ContaSalario(10)\n",
        "conta_do_jeh.deposita(500)\n",
        "\n",
        "conta_da_carla = ContaSalario(222)\n",
        "conta_da_carla.deposita(1000)\n",
        "\n",
        "conta_do_paulo = ContaSalario(333)\n",
        "conta_do_paulo.deposita(500)"
      ],
      "execution_count": null,
      "outputs": []
    },
    {
      "cell_type": "code",
      "metadata": {
        "id": "_U-hAhjFp5XE"
      },
      "source": [
        "contas = [conta_do_jeh, conta_da_carla, conta_do_paulo]"
      ],
      "execution_count": null,
      "outputs": []
    },
    {
      "cell_type": "code",
      "metadata": {
        "colab": {
          "base_uri": "https://localhost:8080/"
        },
        "id": "3XjBhIz_pdgv",
        "outputId": "49bc5cd6-a115-45de-b17b-844d8dd74a84"
      },
      "source": [
        "from operator import attrgetter\n",
        "\n",
        "for conta in sorted(contas, key=attrgetter(\"_saldo\", \"_codigo\")):\n",
        "  print(conta)"
      ],
      "execution_count": null,
      "outputs": [
        {
          "output_type": "stream",
          "name": "stdout",
          "text": [
            "[>> Codigo 10 Saldo 500 <<\n",
            "[>> Codigo 333 Saldo 500 <<\n",
            "[>> Codigo 222 Saldo 1000 <<\n"
          ]
        }
      ]
    },
    {
      "cell_type": "code",
      "metadata": {
        "id": "Fz_Xl3A3qbmb"
      },
      "source": [
        "class ContaSalario():\n",
        "\n",
        "  def __init__(self, codigo):\n",
        "    self._codigo = codigo\n",
        "    self._saldo = 0\n",
        "\n",
        "  def __eq__(self, outro):\n",
        "    if type(outro) != ContaSalario:\n",
        "      return False\n",
        "      \n",
        "    return self._codigo == outro._codigo and self._saldo == outro._saldo\n",
        "  \n",
        "  def __lt__(self, outro):\n",
        "    if self._saldo != outro._saldo:\n",
        "      return self._saldo < outro._saldo\n",
        "\n",
        "    return self._codigo < outro._codigo\n",
        "\n",
        "  def deposita(self, valor):\n",
        "    self._saldo += valor\n",
        "  \n",
        "  def __str__(self):\n",
        "    return \"[>> Codigo {} Saldo {} <<\".format(self._codigo, self._saldo)"
      ],
      "execution_count": null,
      "outputs": []
    },
    {
      "cell_type": "code",
      "metadata": {
        "id": "ztVNWRlSq87M"
      },
      "source": [
        "conta_do_jeh = ContaSalario(10)\n",
        "conta_do_jeh.deposita(500)\n",
        "\n",
        "conta_da_carla = ContaSalario(222)\n",
        "conta_da_carla.deposita(1000)\n",
        "\n",
        "conta_do_paulo = ContaSalario(333)\n",
        "conta_do_paulo.deposita(500)\n",
        "contas = [conta_do_jeh, conta_da_carla, conta_do_paulo]"
      ],
      "execution_count": null,
      "outputs": []
    },
    {
      "cell_type": "code",
      "metadata": {
        "colab": {
          "base_uri": "https://localhost:8080/"
        },
        "id": "fDFWQLVIrA7S",
        "outputId": "96dcef1a-b2c4-4322-c36c-05e422e1120a"
      },
      "source": [
        "for conta in sorted(contas):\n",
        "  print(conta)"
      ],
      "execution_count": null,
      "outputs": [
        {
          "output_type": "stream",
          "name": "stdout",
          "text": [
            "[>> Codigo 10 Saldo 500 <<\n",
            "[>> Codigo 333 Saldo 500 <<\n",
            "[>> Codigo 222 Saldo 1000 <<\n"
          ]
        }
      ]
    },
    {
      "cell_type": "code",
      "metadata": {
        "id": "Mj3ifEUFro8u"
      },
      "source": [
        "from functools import total_ordering\n",
        "\n",
        "@total_ordering\n",
        "class ContaSalario():\n",
        "\n",
        "  def __init__(self, codigo):\n",
        "    self._codigo = codigo\n",
        "    self._saldo = 0\n",
        "\n",
        "  def __eq__(self, outro):\n",
        "    if type(outro) != ContaSalario:\n",
        "      return False\n",
        "      \n",
        "    return self._codigo == outro._codigo and self._saldo == outro._saldo\n",
        "  \n",
        "  def __lt__(self, outro):\n",
        "    if self._saldo != outro._saldo:\n",
        "      return self._saldo < outro._saldo\n",
        "\n",
        "    return self._codigo < outro._codigo\n",
        "\n",
        "  def deposita(self, valor):\n",
        "    self._saldo += valor\n",
        "  \n",
        "  def __str__(self):\n",
        "    return \"[>> Codigo {} Saldo {} <<\".format(self._codigo, self._saldo)"
      ],
      "execution_count": null,
      "outputs": []
    },
    {
      "cell_type": "code",
      "metadata": {
        "id": "W2T4--FXsTUG"
      },
      "source": [
        "conta_do_jeh = ContaSalario(10)\n",
        "conta_do_jeh.deposita(500)\n",
        "\n",
        "conta_da_carla = ContaSalario(222)\n",
        "conta_da_carla.deposita(1000)\n",
        "\n",
        "conta_do_paulo = ContaSalario(333)\n",
        "conta_do_paulo.deposita(500)\n",
        "contas = [conta_do_jeh, conta_da_carla, conta_do_paulo]"
      ],
      "execution_count": null,
      "outputs": []
    },
    {
      "cell_type": "code",
      "metadata": {
        "colab": {
          "base_uri": "https://localhost:8080/"
        },
        "id": "GELa0OuBsUTI",
        "outputId": "243acef7-a4d4-4e7a-b9bf-2f099429b583"
      },
      "source": [
        "conta_da_carla <= conta_do_jeh"
      ],
      "execution_count": null,
      "outputs": [
        {
          "output_type": "execute_result",
          "data": {
            "text/plain": [
              "False"
            ]
          },
          "metadata": {},
          "execution_count": 20
        }
      ]
    },
    {
      "cell_type": "code",
      "metadata": {
        "colab": {
          "base_uri": "https://localhost:8080/"
        },
        "id": "tSpVO7OHsXU3",
        "outputId": "383081fc-9c82-4ce1-a6cc-06dd3a11910d"
      },
      "source": [
        "conta_do_jeh == conta_do_jeh"
      ],
      "execution_count": null,
      "outputs": [
        {
          "output_type": "execute_result",
          "data": {
            "text/plain": [
              "True"
            ]
          },
          "metadata": {},
          "execution_count": 21
        }
      ]
    },
    {
      "cell_type": "code",
      "metadata": {
        "colab": {
          "base_uri": "https://localhost:8080/"
        },
        "id": "eWHl4_6Rsbrd",
        "outputId": "ca05d111-eb60-47b8-f28f-1de6511bff0c"
      },
      "source": [
        "conta_da_carla >= conta_do_paulo"
      ],
      "execution_count": null,
      "outputs": [
        {
          "output_type": "execute_result",
          "data": {
            "text/plain": [
              "True"
            ]
          },
          "metadata": {},
          "execution_count": 22
        }
      ]
    }
  ]
}