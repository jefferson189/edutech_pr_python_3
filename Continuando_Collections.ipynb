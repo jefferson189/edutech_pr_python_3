{
  "nbformat": 4,
  "nbformat_minor": 0,
  "metadata": {
    "colab": {
      "name": "Continuando  Collections",
      "provenance": [],
      "collapsed_sections": [],
      "authorship_tag": "ABX9TyM/qh1nFILLA9AoBjjbscuB",
      "include_colab_link": true
    },
    "kernelspec": {
      "name": "python3",
      "display_name": "Python 3"
    },
    "language_info": {
      "name": "python"
    }
  },
  "cells": [
    {
      "cell_type": "markdown",
      "metadata": {
        "id": "view-in-github",
        "colab_type": "text"
      },
      "source": [
        "<a href=\"https://colab.research.google.com/github/jefferson189/edutech_pr_python_3/blob/main/Continuando_Collections.ipynb\" target=\"_parent\"><img src=\"https://colab.research.google.com/assets/colab-badge.svg\" alt=\"Open In Colab\"/></a>"
      ]
    },
    {
      "cell_type": "markdown",
      "metadata": {
        "id": "_R_u4PYT3rc-"
      },
      "source": [
        "### **SET**\n",
        "### **Conjuntos**"
      ]
    },
    {
      "cell_type": "code",
      "metadata": {
        "id": "g0bOdXKVtJaQ"
      },
      "source": [
        "usuarios_date_science = [13, 23, 42, 56]\n",
        "usuarios_machine_learnig = [16, 23, 56, 33]"
      ],
      "execution_count": null,
      "outputs": []
    },
    {
      "cell_type": "code",
      "metadata": {
        "colab": {
          "base_uri": "https://localhost:8080/"
        },
        "id": "zW7oHF8Lz781",
        "outputId": "8618351c-359f-4972-aa9b-35855d00711d"
      },
      "source": [
        "assistiram = usuarios_date_science.copy()\n",
        "assistiram"
      ],
      "execution_count": null,
      "outputs": [
        {
          "output_type": "execute_result",
          "data": {
            "text/plain": [
              "[13, 23, 42, 56]"
            ]
          },
          "metadata": {},
          "execution_count": 3
        }
      ]
    },
    {
      "cell_type": "code",
      "metadata": {
        "colab": {
          "base_uri": "https://localhost:8080/"
        },
        "id": "LXXSsyRh0dai",
        "outputId": "4de7c0ad-535b-4e78-f21a-06f93d2cbbdd"
      },
      "source": [
        "assistiram.extend(usuarios_machine_learnig)\n",
        "assistiram"
      ],
      "execution_count": null,
      "outputs": [
        {
          "output_type": "execute_result",
          "data": {
            "text/plain": [
              "[13, 23, 42, 56, 16, 23, 56, 33]"
            ]
          },
          "metadata": {},
          "execution_count": 4
        }
      ]
    },
    {
      "cell_type": "code",
      "metadata": {
        "colab": {
          "base_uri": "https://localhost:8080/"
        },
        "id": "rGU1tYde0zJh",
        "outputId": "85db1989-b97b-45ae-a19e-66a16e966738"
      },
      "source": [
        "len(assistiram)"
      ],
      "execution_count": null,
      "outputs": [
        {
          "output_type": "execute_result",
          "data": {
            "text/plain": [
              "8"
            ]
          },
          "metadata": {},
          "execution_count": 5
        }
      ]
    },
    {
      "cell_type": "code",
      "metadata": {
        "colab": {
          "base_uri": "https://localhost:8080/"
        },
        "id": "OJrBtUBQ1DxB",
        "outputId": "75033a10-4791-4914-ddbf-656ff7a21cb5"
      },
      "source": [
        "set(assistiram)"
      ],
      "execution_count": null,
      "outputs": [
        {
          "output_type": "execute_result",
          "data": {
            "text/plain": [
              "{13, 16, 23, 33, 42, 56}"
            ]
          },
          "metadata": {},
          "execution_count": 6
        }
      ]
    },
    {
      "cell_type": "code",
      "metadata": {
        "colab": {
          "base_uri": "https://localhost:8080/"
        },
        "id": "Q3Xfaiw71iU4",
        "outputId": "ee165964-8277-44e5-bb93-c4106cb76d4e"
      },
      "source": [
        "set([4,2,1,3,4])"
      ],
      "execution_count": null,
      "outputs": [
        {
          "output_type": "execute_result",
          "data": {
            "text/plain": [
              "{1, 2, 3, 4}"
            ]
          },
          "metadata": {},
          "execution_count": 8
        }
      ]
    },
    {
      "cell_type": "code",
      "metadata": {
        "colab": {
          "base_uri": "https://localhost:8080/"
        },
        "id": "zXLwBf-Q2ZdW",
        "outputId": "e679ae49-14d5-43e1-b2e2-82ec620cc0de"
      },
      "source": [
        "{1,4,6,-2,3}"
      ],
      "execution_count": null,
      "outputs": [
        {
          "output_type": "execute_result",
          "data": {
            "text/plain": [
              "{-2, 1, 3, 4, 6}"
            ]
          },
          "metadata": {},
          "execution_count": 10
        }
      ]
    },
    {
      "cell_type": "code",
      "metadata": {
        "colab": {
          "base_uri": "https://localhost:8080/"
        },
        "id": "wxO31JpN16E_",
        "outputId": "2050803c-fcc9-4642-9281-580ec96fe14f"
      },
      "source": [
        "type({1, 2, 3, 4})"
      ],
      "execution_count": null,
      "outputs": [
        {
          "output_type": "execute_result",
          "data": {
            "text/plain": [
              "set"
            ]
          },
          "metadata": {},
          "execution_count": 9
        }
      ]
    },
    {
      "cell_type": "code",
      "metadata": {
        "id": "GfmChTDC2tMl"
      },
      "source": [
        "usuarios_date_science = {13, 23, 42, 56}\n",
        "usuarios_machine_learnig = {16, 23, 56, 33}"
      ],
      "execution_count": null,
      "outputs": []
    },
    {
      "cell_type": "markdown",
      "metadata": {
        "id": "wZ6-pr-t3GWo"
      },
      "source": [
        "Porem o **CONJUNTO** não suporta indexação <br>\n",
        "**EX:** <br>\n",
        "usuarios_date_science[3] <br>\n",
        "não seria possivel acessar, já que set não suporta indexação.\n",
        "<br>\n",
        "TypeError: 'set' object does not support indexing\n"
      ]
    },
    {
      "cell_type": "code",
      "metadata": {
        "colab": {
          "base_uri": "https://localhost:8080/"
        },
        "id": "rbAs5kfD4j2H",
        "outputId": "87046df2-f705-4fb9-9baa-1a728de9d7c4"
      },
      "source": [
        "for usuario in set(assistiram):\n",
        "  print(usuario)"
      ],
      "execution_count": null,
      "outputs": [
        {
          "output_type": "stream",
          "name": "stdout",
          "text": [
            "33\n",
            "42\n",
            "13\n",
            "16\n",
            "23\n",
            "56\n"
          ]
        }
      ]
    },
    {
      "cell_type": "code",
      "metadata": {
        "id": "z8l3xWis5lNH"
      },
      "source": [
        "usuarios_date_science = {13, 23, 42, 56}\n",
        "usuarios_machine_learnig = {16, 23, 56, 33}"
      ],
      "execution_count": null,
      "outputs": []
    },
    {
      "cell_type": "code",
      "metadata": {
        "colab": {
          "base_uri": "https://localhost:8080/"
        },
        "id": "ZRyT6ZgT5mJW",
        "outputId": "7e4e662d-27dd-4c5e-8668-5fd0a5f9115b"
      },
      "source": [
        "usuarios_date_science | usuarios_machine_learnig"
      ],
      "execution_count": null,
      "outputs": [
        {
          "output_type": "execute_result",
          "data": {
            "text/plain": [
              "{13, 16, 23, 33, 42, 56}"
            ]
          },
          "metadata": {},
          "execution_count": 14
        }
      ]
    },
    {
      "cell_type": "code",
      "metadata": {
        "colab": {
          "base_uri": "https://localhost:8080/"
        },
        "id": "H2KR3d317cIj",
        "outputId": "cafe5604-2975-4757-a9d8-aab6b4b1093b"
      },
      "source": [
        "usuarios_date_science & usuarios_machine_learnig"
      ],
      "execution_count": null,
      "outputs": [
        {
          "output_type": "execute_result",
          "data": {
            "text/plain": [
              "{23, 56}"
            ]
          },
          "metadata": {},
          "execution_count": 15
        }
      ]
    },
    {
      "cell_type": "code",
      "metadata": {
        "colab": {
          "base_uri": "https://localhost:8080/"
        },
        "id": "uac4oZh67wsK",
        "outputId": "cfc23d42-e2d1-449a-f1ee-72655f3576fe"
      },
      "source": [
        "usuarios_date_science - usuarios_machine_learnig"
      ],
      "execution_count": null,
      "outputs": [
        {
          "output_type": "execute_result",
          "data": {
            "text/plain": [
              "{13, 42}"
            ]
          },
          "metadata": {},
          "execution_count": 16
        }
      ]
    },
    {
      "cell_type": "code",
      "metadata": {
        "colab": {
          "base_uri": "https://localhost:8080/"
        },
        "id": "l_57PipD87rA",
        "outputId": "7b5a4057-b4d4-4bca-931a-3b1a6b7055d1"
      },
      "source": [
        "fez_ds_mas_nao_fez_ml = usuarios_date_science - usuarios_machine_learnig\n",
        "#Será que o usuario 13 que fez data science não fez machine learnig ?\n",
        "13 in fez_ds_mas_nao_fez_ml"
      ],
      "execution_count": null,
      "outputs": [
        {
          "output_type": "execute_result",
          "data": {
            "text/plain": [
              "True"
            ]
          },
          "metadata": {},
          "execution_count": 17
        }
      ]
    },
    {
      "cell_type": "code",
      "metadata": {
        "colab": {
          "base_uri": "https://localhost:8080/"
        },
        "id": "BEieY8JL9eQO",
        "outputId": "90bf4dfa-eefb-49be-a671-0373c6ad1f30"
      },
      "source": [
        "15 in fez_ds_mas_nao_fez_ml"
      ],
      "execution_count": null,
      "outputs": [
        {
          "output_type": "execute_result",
          "data": {
            "text/plain": [
              "False"
            ]
          },
          "metadata": {},
          "execution_count": 18
        }
      ]
    },
    {
      "cell_type": "code",
      "metadata": {
        "id": "gUkAzJvK9xdF",
        "colab": {
          "base_uri": "https://localhost:8080/"
        },
        "outputId": "687736fa-e56e-4f04-f1b1-0bf83ce7f527"
      },
      "source": [
        "usuarios_date_science ^ usuarios_machine_learnig"
      ],
      "execution_count": null,
      "outputs": [
        {
          "output_type": "execute_result",
          "data": {
            "text/plain": [
              "{13, 16, 33, 42}"
            ]
          },
          "metadata": {},
          "execution_count": 19
        }
      ]
    },
    {
      "cell_type": "markdown",
      "metadata": {
        "id": "0Fc8xlkpC_O4"
      },
      "source": [
        "# **Operações**"
      ]
    },
    {
      "cell_type": "code",
      "metadata": {
        "id": "uGUb7VBtDHhw"
      },
      "source": [
        "usuarios = {1,3,5,9,8,11,13,52,65}"
      ],
      "execution_count": null,
      "outputs": []
    },
    {
      "cell_type": "code",
      "metadata": {
        "colab": {
          "base_uri": "https://localhost:8080/"
        },
        "id": "FJ5QWH5fDOJv",
        "outputId": "970c9d97-98a5-45a2-c482-b53b509a5419"
      },
      "source": [
        "usuarios"
      ],
      "execution_count": null,
      "outputs": [
        {
          "output_type": "execute_result",
          "data": {
            "text/plain": [
              "{1, 3, 5, 8, 9, 11, 13, 52, 65}"
            ]
          },
          "metadata": {},
          "execution_count": 2
        }
      ]
    },
    {
      "cell_type": "code",
      "metadata": {
        "colab": {
          "base_uri": "https://localhost:8080/"
        },
        "id": "uromzo4zDP94",
        "outputId": "a545fe8b-7a62-46d7-d6f2-b27ad48a27e7"
      },
      "source": [
        "len(usuarios)"
      ],
      "execution_count": null,
      "outputs": [
        {
          "output_type": "execute_result",
          "data": {
            "text/plain": [
              "9"
            ]
          },
          "metadata": {},
          "execution_count": 3
        }
      ]
    },
    {
      "cell_type": "code",
      "metadata": {
        "colab": {
          "base_uri": "https://localhost:8080/"
        },
        "id": "xeuHSy2qDSLw",
        "outputId": "32f74fb1-57aa-40b1-f46f-edf9e66bc334"
      },
      "source": [
        "usuarios.add(11)\n",
        "len(usuarios)"
      ],
      "execution_count": null,
      "outputs": [
        {
          "output_type": "execute_result",
          "data": {
            "text/plain": [
              "9"
            ]
          },
          "metadata": {},
          "execution_count": 4
        }
      ]
    },
    {
      "cell_type": "code",
      "metadata": {
        "colab": {
          "base_uri": "https://localhost:8080/"
        },
        "id": "dIPyfYdsD6iv",
        "outputId": "3a122aa4-f05c-4aa9-d42f-895726545f68"
      },
      "source": [
        "usuarios.add(10)\n",
        "len(usuarios)"
      ],
      "execution_count": null,
      "outputs": [
        {
          "output_type": "execute_result",
          "data": {
            "text/plain": [
              "10"
            ]
          },
          "metadata": {},
          "execution_count": 5
        }
      ]
    },
    {
      "cell_type": "code",
      "metadata": {
        "colab": {
          "base_uri": "https://localhost:8080/"
        },
        "id": "GIObQh4pEGF5",
        "outputId": "e001a67a-06df-4bdb-cc6a-de0d83dee458"
      },
      "source": [
        "usuarios"
      ],
      "execution_count": null,
      "outputs": [
        {
          "output_type": "execute_result",
          "data": {
            "text/plain": [
              "{1, 3, 5, 8, 9, 10, 11, 13, 52, 65}"
            ]
          },
          "metadata": {},
          "execution_count": 6
        }
      ]
    },
    {
      "cell_type": "code",
      "metadata": {
        "colab": {
          "base_uri": "https://localhost:8080/"
        },
        "id": "NGdKPGWwEQsP",
        "outputId": "928c9161-78ef-494b-936d-a558a9d0c968"
      },
      "source": [
        "frozenset(usuarios)"
      ],
      "execution_count": null,
      "outputs": [
        {
          "output_type": "execute_result",
          "data": {
            "text/plain": [
              "frozenset({1, 3, 5, 8, 9, 10, 11, 13, 52, 65})"
            ]
          },
          "metadata": {},
          "execution_count": 8
        }
      ]
    },
    {
      "cell_type": "code",
      "metadata": {
        "id": "jmI8RjcyElmM"
      },
      "source": [
        "usuarios = frozenset(usuarios)"
      ],
      "execution_count": null,
      "outputs": []
    },
    {
      "cell_type": "code",
      "metadata": {
        "colab": {
          "base_uri": "https://localhost:8080/",
          "height": 163
        },
        "id": "Dq-SbPY9EpTr",
        "outputId": "11d0d59b-6d9b-40d9-dd6d-5f1223ed4877"
      },
      "source": [
        "usuarios.add(15)"
      ],
      "execution_count": null,
      "outputs": [
        {
          "output_type": "error",
          "ename": "AttributeError",
          "evalue": "ignored",
          "traceback": [
            "\u001b[0;31m---------------------------------------------------------------------------\u001b[0m",
            "\u001b[0;31mAttributeError\u001b[0m                            Traceback (most recent call last)",
            "\u001b[0;32m<ipython-input-10-332ef835c372>\u001b[0m in \u001b[0;36m<module>\u001b[0;34m()\u001b[0m\n\u001b[0;32m----> 1\u001b[0;31m \u001b[0musuarios\u001b[0m\u001b[0;34m.\u001b[0m\u001b[0madd\u001b[0m\u001b[0;34m(\u001b[0m\u001b[0;36m15\u001b[0m\u001b[0;34m)\u001b[0m\u001b[0;34m\u001b[0m\u001b[0;34m\u001b[0m\u001b[0m\n\u001b[0m",
            "\u001b[0;31mAttributeError\u001b[0m: 'frozenset' object has no attribute 'add'"
          ]
        }
      ]
    },
    {
      "cell_type": "code",
      "metadata": {
        "id": "FxCFTwtQE9BW"
      },
      "source": [
        "meu_texto = \"Jefferson esta aprendendo a programar ele esta se esforçando\""
      ],
      "execution_count": null,
      "outputs": []
    },
    {
      "cell_type": "code",
      "metadata": {
        "colab": {
          "base_uri": "https://localhost:8080/"
        },
        "id": "EaHe9LRMFU7S",
        "outputId": "902500b2-2bdb-44fa-dc6a-8f741bb16b51"
      },
      "source": [
        "meu_texto.split()"
      ],
      "execution_count": null,
      "outputs": [
        {
          "output_type": "execute_result",
          "data": {
            "text/plain": [
              "['Jefferson',\n",
              " 'esta',\n",
              " 'aprendendo',\n",
              " 'a',\n",
              " 'programar',\n",
              " 'ele',\n",
              " 'esta',\n",
              " 'se',\n",
              " 'esforçando']"
            ]
          },
          "metadata": {},
          "execution_count": 14
        }
      ]
    },
    {
      "cell_type": "code",
      "metadata": {
        "colab": {
          "base_uri": "https://localhost:8080/"
        },
        "id": "n7TlX0URGQdw",
        "outputId": "de433f36-fcf8-4373-b1eb-45126b329dfb"
      },
      "source": [
        "set(meu_texto.split())"
      ],
      "execution_count": null,
      "outputs": [
        {
          "output_type": "execute_result",
          "data": {
            "text/plain": [
              "{'Jefferson',\n",
              " 'a',\n",
              " 'aprendendo',\n",
              " 'ele',\n",
              " 'esforçando',\n",
              " 'esta',\n",
              " 'programar',\n",
              " 'se'}"
            ]
          },
          "metadata": {},
          "execution_count": 17
        }
      ]
    },
    {
      "cell_type": "markdown",
      "metadata": {
        "id": "y_PL1GY0h6kk"
      },
      "source": [
        "# **Dicionarios (Mapas, etc...)**"
      ]
    },
    {
      "cell_type": "code",
      "metadata": {
        "id": "IBCDoHJih-_w"
      },
      "source": [
        "aparicoes = { \n",
        "    \"Jefferson\" : 1,\n",
        "    \"Cachorro\" : 2,\n",
        "    \"Gato\" : 2,\n",
        "    \"Nada\" :1\n",
        "}\n",
        "\n",
        "#Forma mais direta e comum de se criar dicionario."
      ],
      "execution_count": null,
      "outputs": []
    },
    {
      "cell_type": "code",
      "metadata": {
        "colab": {
          "base_uri": "https://localhost:8080/"
        },
        "id": "5QZs_t_RicsA",
        "outputId": "29bff62e-4e46-4ce4-dadc-9cad02eda5f6"
      },
      "source": [
        "type(aparicoes)"
      ],
      "execution_count": null,
      "outputs": [
        {
          "output_type": "execute_result",
          "data": {
            "text/plain": [
              "dict"
            ]
          },
          "metadata": {},
          "execution_count": 6
        }
      ]
    },
    {
      "cell_type": "code",
      "metadata": {
        "colab": {
          "base_uri": "https://localhost:8080/"
        },
        "id": "oOGhK0ETjLC9",
        "outputId": "c8feff6b-1c30-4667-b96a-960cee967c9e"
      },
      "source": [
        "aparicoes[\"Jefferson\"]"
      ],
      "execution_count": null,
      "outputs": [
        {
          "output_type": "execute_result",
          "data": {
            "text/plain": [
              "1"
            ]
          },
          "metadata": {},
          "execution_count": 7
        }
      ]
    },
    {
      "cell_type": "code",
      "metadata": {
        "colab": {
          "base_uri": "https://localhost:8080/"
        },
        "id": "wRLErSbyjcSs",
        "outputId": "ecc77992-0e91-4a9c-c704-8d137d107b74"
      },
      "source": [
        "aparicoes[\"Gato\"]"
      ],
      "execution_count": null,
      "outputs": [
        {
          "output_type": "execute_result",
          "data": {
            "text/plain": [
              "2"
            ]
          },
          "metadata": {},
          "execution_count": 8
        }
      ]
    },
    {
      "cell_type": "code",
      "metadata": {
        "colab": {
          "base_uri": "https://localhost:8080/"
        },
        "id": "srZ6i46Ejfc1",
        "outputId": "f8ea8a0f-7429-472c-bd8b-6727ccf3c8c9"
      },
      "source": [
        "aparicoes[\"Nada\"]"
      ],
      "execution_count": null,
      "outputs": [
        {
          "output_type": "execute_result",
          "data": {
            "text/plain": [
              "1"
            ]
          },
          "metadata": {},
          "execution_count": 9
        }
      ]
    },
    {
      "cell_type": "markdown",
      "metadata": {
        "id": "UfGQyetbjpG0"
      },
      "source": [
        "Se buscar no dicionario uma palavra que não está lá ele ira retornar um **KeyError:** para retornar valor zero quando não tiver a chave no dicionario utiliza o **GET**"
      ]
    },
    {
      "cell_type": "code",
      "metadata": {
        "colab": {
          "base_uri": "https://localhost:8080/"
        },
        "id": "XT4u7dycj5ME",
        "outputId": "0d48755c-2e04-4509-aac1-65e766557ca7"
      },
      "source": [
        "aparicoes.get(\"xpto\", 0)"
      ],
      "execution_count": null,
      "outputs": [
        {
          "output_type": "execute_result",
          "data": {
            "text/plain": [
              "0"
            ]
          },
          "metadata": {},
          "execution_count": 12
        }
      ]
    },
    {
      "cell_type": "code",
      "metadata": {
        "colab": {
          "base_uri": "https://localhost:8080/"
        },
        "id": "dnD0hNmekUff",
        "outputId": "d0ca8ec3-88d4-4e12-d57c-4328b29e3d18"
      },
      "source": [
        "aparicoes.get(\"Cachorro\", 0)"
      ],
      "execution_count": null,
      "outputs": [
        {
          "output_type": "execute_result",
          "data": {
            "text/plain": [
              "2"
            ]
          },
          "metadata": {},
          "execution_count": 13
        }
      ]
    },
    {
      "cell_type": "code",
      "metadata": {
        "colab": {
          "base_uri": "https://localhost:8080/"
        },
        "id": "r_A5L9EKk4Tx",
        "outputId": "f60d4d2a-da61-4395-cb35-023c25c0fe4c"
      },
      "source": [
        "aparicoes2 = dict(Jefferson = 1, Gato = 2, Cachorro = 2, Nada = 1)\n",
        "aparicoes2"
      ],
      "execution_count": null,
      "outputs": [
        {
          "output_type": "execute_result",
          "data": {
            "text/plain": [
              "{'Cachorro': 2, 'Gato': 2, 'Jefferson': 1, 'Nada': 1}"
            ]
          },
          "metadata": {},
          "execution_count": 14
        }
      ]
    },
    {
      "cell_type": "code",
      "metadata": {
        "colab": {
          "base_uri": "https://localhost:8080/"
        },
        "id": "hLMsKM0flOoB",
        "outputId": "a0821872-64f0-472a-f03a-a72d6e67aec0"
      },
      "source": [
        "aparicoes2[\"Gato\"]"
      ],
      "execution_count": null,
      "outputs": [
        {
          "output_type": "execute_result",
          "data": {
            "text/plain": [
              "2"
            ]
          },
          "metadata": {},
          "execution_count": 15
        }
      ]
    },
    {
      "cell_type": "code",
      "metadata": {
        "id": "B0BVJ3fzphGw"
      },
      "source": [
        "aparicoes[\"Novo\"] = 1"
      ],
      "execution_count": null,
      "outputs": []
    },
    {
      "cell_type": "code",
      "metadata": {
        "colab": {
          "base_uri": "https://localhost:8080/"
        },
        "id": "S7Pgst2hp3WI",
        "outputId": "bbe9387a-64cc-4fe6-c7a6-884a2dc84e4c"
      },
      "source": [
        "aparicoes"
      ],
      "execution_count": null,
      "outputs": [
        {
          "output_type": "execute_result",
          "data": {
            "text/plain": [
              "{'Cachorro': 2, 'Gato': 2, 'Jefferson': 1, 'Nada': 1, 'Novo': 1}"
            ]
          },
          "metadata": {},
          "execution_count": 17
        }
      ]
    },
    {
      "cell_type": "code",
      "metadata": {
        "id": "pwX1RGpup50J"
      },
      "source": [
        "aparicoes[\"Novo\"] = 2"
      ],
      "execution_count": null,
      "outputs": []
    },
    {
      "cell_type": "code",
      "metadata": {
        "colab": {
          "base_uri": "https://localhost:8080/"
        },
        "id": "Stlq2JxNp9cP",
        "outputId": "ba83e5b5-3926-4195-b45d-cbccb863a0b5"
      },
      "source": [
        "aparicoes"
      ],
      "execution_count": null,
      "outputs": [
        {
          "output_type": "execute_result",
          "data": {
            "text/plain": [
              "{'Cachorro': 2, 'Gato': 2, 'Jefferson': 1, 'Nada': 1, 'Novo': 2}"
            ]
          },
          "metadata": {},
          "execution_count": 19
        }
      ]
    },
    {
      "cell_type": "code",
      "metadata": {
        "id": "n20c2ehFqNG-"
      },
      "source": [
        "del aparicoes[\"Novo\"]"
      ],
      "execution_count": null,
      "outputs": []
    },
    {
      "cell_type": "code",
      "metadata": {
        "colab": {
          "base_uri": "https://localhost:8080/"
        },
        "id": "nlJhDBBhqXVS",
        "outputId": "304000c5-9f29-4440-ae57-36030e3f5d9e"
      },
      "source": [
        "aparicoes"
      ],
      "execution_count": null,
      "outputs": [
        {
          "output_type": "execute_result",
          "data": {
            "text/plain": [
              "{'Cachorro': 2, 'Gato': 2, 'Jefferson': 1, 'Nada': 1}"
            ]
          },
          "metadata": {},
          "execution_count": 21
        }
      ]
    },
    {
      "cell_type": "code",
      "metadata": {
        "colab": {
          "base_uri": "https://localhost:8080/"
        },
        "id": "rvfHnnN6qczt",
        "outputId": "c6183bb4-6642-4120-9bdf-d66775058043"
      },
      "source": [
        "\"Cachorro\" in aparicoes"
      ],
      "execution_count": null,
      "outputs": [
        {
          "output_type": "execute_result",
          "data": {
            "text/plain": [
              "True"
            ]
          },
          "metadata": {},
          "execution_count": 22
        }
      ]
    },
    {
      "cell_type": "code",
      "metadata": {
        "colab": {
          "base_uri": "https://localhost:8080/"
        },
        "id": "gXheBsLzqvl2",
        "outputId": "1b2dd189-3c51-479f-9ea4-46ead4090a75"
      },
      "source": [
        "\"Novo\" in aparicoes"
      ],
      "execution_count": null,
      "outputs": [
        {
          "output_type": "execute_result",
          "data": {
            "text/plain": [
              "False"
            ]
          },
          "metadata": {},
          "execution_count": 23
        }
      ]
    },
    {
      "cell_type": "code",
      "metadata": {
        "colab": {
          "base_uri": "https://localhost:8080/"
        },
        "id": "jtPlG6TUq9am",
        "outputId": "256d1ef4-5cd3-4db4-a2c9-39993ba0e3a7"
      },
      "source": [
        "for elemento in aparicoes:\n",
        "  print(elemento)"
      ],
      "execution_count": null,
      "outputs": [
        {
          "output_type": "stream",
          "name": "stdout",
          "text": [
            "Jefferson\n",
            "Cachorro\n",
            "Gato\n",
            "Nada\n"
          ]
        }
      ]
    },
    {
      "cell_type": "code",
      "metadata": {
        "colab": {
          "base_uri": "https://localhost:8080/"
        },
        "id": "b6EWTXPurVFQ",
        "outputId": "9136d8a7-9b8f-4bf0-8ea0-51c54b0d6788"
      },
      "source": [
        "for elemento in aparicoes.keys():\n",
        "  print(elemento)"
      ],
      "execution_count": null,
      "outputs": [
        {
          "output_type": "stream",
          "name": "stdout",
          "text": [
            "Jefferson\n",
            "Cachorro\n",
            "Gato\n",
            "Nada\n"
          ]
        }
      ]
    },
    {
      "cell_type": "code",
      "metadata": {
        "colab": {
          "base_uri": "https://localhost:8080/"
        },
        "id": "azeKt_YFrjnu",
        "outputId": "6986671d-aae2-4c5a-fd78-e13e5ce4fe97"
      },
      "source": [
        "for elemento in aparicoes.values():\n",
        "  print(elemento)"
      ],
      "execution_count": null,
      "outputs": [
        {
          "output_type": "stream",
          "name": "stdout",
          "text": [
            "1\n",
            "2\n",
            "2\n",
            "1\n"
          ]
        }
      ]
    },
    {
      "cell_type": "code",
      "metadata": {
        "colab": {
          "base_uri": "https://localhost:8080/"
        },
        "id": "1qJfLHAZrskz",
        "outputId": "f7cc1462-3b53-425f-af8a-59ed88b80b1d"
      },
      "source": [
        "2 in aparicoes.values()"
      ],
      "execution_count": null,
      "outputs": [
        {
          "output_type": "execute_result",
          "data": {
            "text/plain": [
              "True"
            ]
          },
          "metadata": {},
          "execution_count": 27
        }
      ]
    },
    {
      "cell_type": "code",
      "metadata": {
        "colab": {
          "base_uri": "https://localhost:8080/"
        },
        "id": "iYPvbYxIr-HC",
        "outputId": "5f7304d8-50c5-455c-9b48-4b8cb95fc56b"
      },
      "source": [
        "for elemento in aparicoes.keys():\n",
        "  print(elemento, aparicoes[elemento])"
      ],
      "execution_count": null,
      "outputs": [
        {
          "output_type": "stream",
          "name": "stdout",
          "text": [
            "Jefferson 1\n",
            "Cachorro 2\n",
            "Gato 2\n",
            "Nada 1\n"
          ]
        }
      ]
    },
    {
      "cell_type": "code",
      "metadata": {
        "colab": {
          "base_uri": "https://localhost:8080/"
        },
        "id": "XsuCLUqqsVhX",
        "outputId": "047d4d3e-818b-494e-e8d5-9d9a2049e9c1"
      },
      "source": [
        "for elemento in aparicoes.items():\n",
        "  print(elemento)"
      ],
      "execution_count": null,
      "outputs": [
        {
          "output_type": "stream",
          "name": "stdout",
          "text": [
            "('Jefferson', 1)\n",
            "('Cachorro', 2)\n",
            "('Gato', 2)\n",
            "('Nada', 1)\n"
          ]
        }
      ]
    },
    {
      "cell_type": "code",
      "metadata": {
        "colab": {
          "base_uri": "https://localhost:8080/"
        },
        "id": "M2zvqpXpsq7p",
        "outputId": "1e61b3e1-44ce-4058-e0e2-56a1e5f06322"
      },
      "source": [
        "for chave, valor in aparicoes.items():\n",
        "  print(chave,\"=\",valor)"
      ],
      "execution_count": null,
      "outputs": [
        {
          "output_type": "stream",
          "name": "stdout",
          "text": [
            "Jefferson = 1\n",
            "Cachorro = 2\n",
            "Gato = 2\n",
            "Nada = 1\n"
          ]
        }
      ]
    },
    {
      "cell_type": "code",
      "metadata": {
        "colab": {
          "base_uri": "https://localhost:8080/"
        },
        "id": "1-f7RqhCtGfl",
        "outputId": "93f947f7-1f09-40ed-eeaf-9af13494da14"
      },
      "source": [
        "[\"Palavra {}\".format(chave) for chave in aparicoes.keys()] "
      ],
      "execution_count": null,
      "outputs": [
        {
          "output_type": "execute_result",
          "data": {
            "text/plain": [
              "['Palavra Jefferson', 'Palavra Cachorro', 'Palavra Gato', 'Palavra Nada']"
            ]
          },
          "metadata": {},
          "execution_count": 32
        }
      ]
    },
    {
      "cell_type": "markdown",
      "metadata": {
        "id": "CPe00CboG-q9"
      },
      "source": [
        "# **Variações de Dicionarios**"
      ]
    },
    {
      "cell_type": "code",
      "metadata": {
        "colab": {
          "base_uri": "https://localhost:8080/"
        },
        "id": "Cn5IDzzKHB0f",
        "outputId": "f6895466-ff1d-4c84-d491-824c7e845977"
      },
      "source": [
        "meu_texto = \"Jefferson esta aprendendo a programar ele esta se esforçando\"\n",
        "meu_texto = meu_texto.lower()\n",
        "meu_texto.split()"
      ],
      "execution_count": null,
      "outputs": [
        {
          "output_type": "execute_result",
          "data": {
            "text/plain": [
              "['jefferson',\n",
              " 'esta',\n",
              " 'aprendendo',\n",
              " 'a',\n",
              " 'programar',\n",
              " 'ele',\n",
              " 'esta',\n",
              " 'se',\n",
              " 'esforçando']"
            ]
          },
          "metadata": {},
          "execution_count": 1
        }
      ]
    },
    {
      "cell_type": "code",
      "metadata": {
        "colab": {
          "base_uri": "https://localhost:8080/"
        },
        "id": "1gC-igE_H8BE",
        "outputId": "5129a84d-aa1c-4455-eca1-a11620e9cf22"
      },
      "source": [
        "aparicoes = {}\n",
        "\n",
        "for palavra in meu_texto.split():\n",
        "  ate_agora = aparicoes.get(palavra, 0)\n",
        "  aparicoes[palavra] = ate_agora + 1\n",
        "\n",
        "aparicoes"
      ],
      "execution_count": null,
      "outputs": [
        {
          "output_type": "execute_result",
          "data": {
            "text/plain": [
              "{'a': 1,\n",
              " 'aprendendo': 1,\n",
              " 'ele': 1,\n",
              " 'esforçando': 1,\n",
              " 'esta': 2,\n",
              " 'jefferson': 1,\n",
              " 'programar': 1,\n",
              " 'se': 1}"
            ]
          },
          "metadata": {},
          "execution_count": 2
        }
      ]
    },
    {
      "cell_type": "code",
      "metadata": {
        "colab": {
          "base_uri": "https://localhost:8080/"
        },
        "id": "7-Mk8U_QJUpK",
        "outputId": "f5addf66-392c-417e-aa5e-6586d1a405c4"
      },
      "source": [
        "from collections import defaultdict\n",
        "\n",
        "aparicoes = defaultdict(int)\n",
        "\n",
        "for palavra in meu_texto.split():\n",
        "  ate_agora = aparicoes[palavra]\n",
        "  aparicoes[palavra] = ate_agora + 1\n",
        "\n",
        "aparicoes\n"
      ],
      "execution_count": null,
      "outputs": [
        {
          "output_type": "execute_result",
          "data": {
            "text/plain": [
              "defaultdict(int,\n",
              "            {'a': 1,\n",
              "             'aprendendo': 1,\n",
              "             'ele': 1,\n",
              "             'esforçando': 1,\n",
              "             'esta': 2,\n",
              "             'jefferson': 1,\n",
              "             'programar': 1,\n",
              "             'se': 1})"
            ]
          },
          "metadata": {},
          "execution_count": 5
        }
      ]
    },
    {
      "cell_type": "code",
      "metadata": {
        "colab": {
          "base_uri": "https://localhost:8080/"
        },
        "id": "xcshMVx4JdaT",
        "outputId": "bc10bf23-a144-47f4-8a09-f6c5ad013ba1"
      },
      "source": [
        "int()"
      ],
      "execution_count": null,
      "outputs": [
        {
          "output_type": "execute_result",
          "data": {
            "text/plain": [
              "0"
            ]
          },
          "metadata": {},
          "execution_count": 3
        }
      ]
    },
    {
      "cell_type": "code",
      "metadata": {
        "colab": {
          "base_uri": "https://localhost:8080/"
        },
        "id": "Fvy3MkDNJlm0",
        "outputId": "48ab5874-d53b-48ea-9561-978fb658a526"
      },
      "source": [
        "int(15)"
      ],
      "execution_count": null,
      "outputs": [
        {
          "output_type": "execute_result",
          "data": {
            "text/plain": [
              "15"
            ]
          },
          "metadata": {},
          "execution_count": 4
        }
      ]
    },
    {
      "cell_type": "code",
      "metadata": {
        "colab": {
          "base_uri": "https://localhost:8080/"
        },
        "id": "dAAJ2EC_KoNW",
        "outputId": "3f8e7a6e-d8b1-4a19-e8d6-f03d2a7a32d2"
      },
      "source": [
        "dicionario = defaultdict(int)\n",
        "dicionario[\"Jefferson\"]"
      ],
      "execution_count": null,
      "outputs": [
        {
          "output_type": "execute_result",
          "data": {
            "text/plain": [
              "0"
            ]
          },
          "metadata": {},
          "execution_count": 7
        }
      ]
    },
    {
      "cell_type": "code",
      "metadata": {
        "colab": {
          "base_uri": "https://localhost:8080/"
        },
        "id": "NAgAxf9qK8c8",
        "outputId": "bc09f920-94fb-4cc3-d926-d1fec357fc0a"
      },
      "source": [
        "dicionario[\"Jefferson\"] = 15\n",
        "dicionario[\"Jefferson\"]"
      ],
      "execution_count": null,
      "outputs": [
        {
          "output_type": "execute_result",
          "data": {
            "text/plain": [
              "15"
            ]
          },
          "metadata": {},
          "execution_count": 8
        }
      ]
    },
    {
      "cell_type": "code",
      "metadata": {
        "colab": {
          "base_uri": "https://localhost:8080/"
        },
        "id": "VFbemfKFMSo0",
        "outputId": "d57b68f6-6a13-416c-ce4f-528d7ad70849"
      },
      "source": [
        "aparicoes = defaultdict(int)\n",
        "\n",
        "for palavra in meu_texto.split():\n",
        "  aparicoes[palavra] += 1\n",
        "\n",
        "aparicoes"
      ],
      "execution_count": null,
      "outputs": [
        {
          "output_type": "execute_result",
          "data": {
            "text/plain": [
              "defaultdict(int,\n",
              "            {'a': 1,\n",
              "             'aprendendo': 1,\n",
              "             'ele': 1,\n",
              "             'esforçando': 1,\n",
              "             'esta': 2,\n",
              "             'jefferson': 1,\n",
              "             'programar': 1,\n",
              "             'se': 1})"
            ]
          },
          "metadata": {},
          "execution_count": 9
        }
      ]
    },
    {
      "cell_type": "code",
      "metadata": {
        "id": "5u6mJfofM6Up"
      },
      "source": [
        "class Conta:\n",
        "  def __init__(self):\n",
        "    print ('Criando Conta')"
      ],
      "execution_count": null,
      "outputs": []
    },
    {
      "cell_type": "code",
      "metadata": {
        "id": "8hbILKEjNE95"
      },
      "source": [
        "contas = defaultdict(Conta)"
      ],
      "execution_count": null,
      "outputs": []
    },
    {
      "cell_type": "code",
      "metadata": {
        "colab": {
          "base_uri": "https://localhost:8080/"
        },
        "id": "kRzVMduiNLk4",
        "outputId": "9733237c-7d57-4ee0-c98f-02ab21533b8a"
      },
      "source": [
        "contas[15]"
      ],
      "execution_count": null,
      "outputs": [
        {
          "output_type": "stream",
          "name": "stdout",
          "text": [
            "Criando Conta\n"
          ]
        },
        {
          "output_type": "execute_result",
          "data": {
            "text/plain": [
              "<__main__.Conta at 0x7fe607ee8a50>"
            ]
          },
          "metadata": {},
          "execution_count": 14
        }
      ]
    },
    {
      "cell_type": "code",
      "metadata": {
        "colab": {
          "base_uri": "https://localhost:8080/"
        },
        "id": "v8s7aqLmNrQI",
        "outputId": "8c0aa5f1-3dc0-49e2-b876-cbabd0b9c6a6"
      },
      "source": [
        "contas[10]"
      ],
      "execution_count": null,
      "outputs": [
        {
          "output_type": "stream",
          "name": "stdout",
          "text": [
            "Criando Conta\n"
          ]
        },
        {
          "output_type": "execute_result",
          "data": {
            "text/plain": [
              "<__main__.Conta at 0x7fe607f61210>"
            ]
          },
          "metadata": {},
          "execution_count": 15
        }
      ]
    },
    {
      "cell_type": "code",
      "metadata": {
        "colab": {
          "base_uri": "https://localhost:8080/"
        },
        "id": "FGAA2yoONxT6",
        "outputId": "48fa065a-4b89-4ad4-ad05-9b9b44be3672"
      },
      "source": [
        "contas[15]"
      ],
      "execution_count": null,
      "outputs": [
        {
          "output_type": "execute_result",
          "data": {
            "text/plain": [
              "<__main__.Conta at 0x7fe607ee8a50>"
            ]
          },
          "metadata": {},
          "execution_count": 16
        }
      ]
    },
    {
      "cell_type": "code",
      "metadata": {
        "id": "ctlfug_vOcjC"
      },
      "source": [
        "from collections import Counter"
      ],
      "execution_count": null,
      "outputs": []
    },
    {
      "cell_type": "code",
      "metadata": {
        "colab": {
          "base_uri": "https://localhost:8080/"
        },
        "id": "EjMuZ9oLOuMv",
        "outputId": "0a302ece-727c-4fec-e9e5-a1e710fe0153"
      },
      "source": [
        "aparicoes = Counter()\n",
        "\n",
        "for palavra in meu_texto.split():\n",
        "  aparicoes[palavra] += 1\n",
        "\n",
        "aparicoes"
      ],
      "execution_count": null,
      "outputs": [
        {
          "output_type": "execute_result",
          "data": {
            "text/plain": [
              "Counter({'a': 1,\n",
              "         'aprendendo': 1,\n",
              "         'ele': 1,\n",
              "         'esforçando': 1,\n",
              "         'esta': 2,\n",
              "         'jefferson': 1,\n",
              "         'programar': 1,\n",
              "         'se': 1})"
            ]
          },
          "metadata": {},
          "execution_count": 18
        }
      ]
    },
    {
      "cell_type": "code",
      "metadata": {
        "colab": {
          "base_uri": "https://localhost:8080/"
        },
        "id": "6tSUdTVtO5xp",
        "outputId": "f21d1049-3c0b-40bb-d675-5e128c6f5324"
      },
      "source": [
        "aparicoes = Counter(meu_texto.split())\n",
        "aparicoes"
      ],
      "execution_count": null,
      "outputs": [
        {
          "output_type": "execute_result",
          "data": {
            "text/plain": [
              "Counter({'a': 1,\n",
              "         'aprendendo': 1,\n",
              "         'ele': 1,\n",
              "         'esforçando': 1,\n",
              "         'esta': 2,\n",
              "         'jefferson': 1,\n",
              "         'programar': 1,\n",
              "         'se': 1})"
            ]
          },
          "metadata": {},
          "execution_count": 19
        }
      ]
    },
    {
      "cell_type": "markdown",
      "metadata": {
        "id": "MR1saxYE1l7e"
      },
      "source": [
        "# **Praticando**"
      ]
    },
    {
      "cell_type": "markdown",
      "metadata": {
        "id": "XL2i4X-q4gaN"
      },
      "source": [
        "## Testando o uso de diversas Coleções"
      ]
    },
    {
      "cell_type": "code",
      "metadata": {
        "id": "inD6MP4q1qdP"
      },
      "source": [
        "texto1 = \"\"\"\n",
        "Com uma audiência muito menor que a esperada e somente 29 dias após o lançamento de sua plataforma, Donald Trump, ex-presidente dos Estados Unidos, decidiu abandonar o projeto.\n",
        "No último dia de vida da \"rede social\", ela acumulou 1,5 compartilhamentos e comentários em concorrentes como Facebook e o Twitter, dos quais Donald foi banido –\n",
        " números expressivamente inferiores às centenas de milhares de reações passadas.\n",
        "Ao The Washington Post, sob condição de anonimato, um conselheiro de Trump indicou que ele ficou bem descontente com os resultados da iniciativa,\n",
        " assim como com a alcunha de \"perdedor\" que teria sido atribuída a seu nome.\n",
        "Durante o curto período de existência, o From the Desk of Donald J. Trump, mais parecido com um blog do que o inicialmente sugerido, atingiu a média de cerca de 4 mil interações diárias, segundo dados da BuzzSumo.\n",
        "\"\"\""
      ],
      "execution_count": null,
      "outputs": []
    },
    {
      "cell_type": "code",
      "metadata": {
        "id": "fqb65yDw5Es6"
      },
      "source": [
        "texto2 = \"\"\" Um mês após demitir um terço de sua força de trabalho e admitir que a mera criação de bons conteúdos não é suficiente para garantir seu sustento,\n",
        " o Medium divulgou seu novo plano para se manter vivoe relevante.\n",
        " O sistema vai ganhar uma opção de assinaturas que, em um primeiro momento, promete ser um “upgrade para a experiência de uso oferecida”.\n",
        "O CEO do Medium, Ev Williams, não forneceu qualquer detalhe sobre o funcionamento da nova opção, simplesmente se limitando a pedir que as pessoas “assinem, por favor”.\n",
        " Embora em 2016 a plataforma tenha crescido seu tamanho em 300% e incorporado veículos reconhecidos como The Awl, Think Progress e The Ringer, isso não\n",
        "  foi o suficiente para ela se manter financeiramente viável.A previsão é que a novidade comece a ser disponibilizada ainda no primeiro trimestre de 2017\n",
        "A opção por um sistema de assinatura faz sentido quando levamos em consideração as críticas que Williams fez ao modelo de publicidade atual. “Ele aumenta a quantidade de desinformação...\n",
        " e a pressão para criar mais conteúdo barato — que se danem a profundidade, originalidade ou qualidade. É algo insustentável e insatisfatório para produtores e consumidores...\n",
        "  Precisamos de um novo modelo”.Vale notar que a versão de assinaturas pode ser somente a primeira etapa de uma transformação maior pela qual o Medium deve passar.\n",
        "A previsão é que a novidade comece a ser disponibilizada ainda no primeiro trimestre de 2017, embora valores ainda não tenham sido divulgados até o momento. \n",
        "\"\"\""
      ],
      "execution_count": null,
      "outputs": []
    },
    {
      "cell_type": "code",
      "metadata": {
        "colab": {
          "base_uri": "https://localhost:8080/"
        },
        "id": "B5Rg9MeK6TJV",
        "outputId": "ffb6744b-52a3-4720-88a3-a118c589ca4e"
      },
      "source": [
        "for x in \"Jefferson\":\n",
        "  print(x)"
      ],
      "execution_count": null,
      "outputs": [
        {
          "output_type": "stream",
          "name": "stdout",
          "text": [
            "J\n",
            "e\n",
            "f\n",
            "f\n",
            "e\n",
            "r\n",
            "s\n",
            "o\n",
            "n\n"
          ]
        }
      ]
    },
    {
      "cell_type": "code",
      "metadata": {
        "colab": {
          "base_uri": "https://localhost:8080/"
        },
        "id": "GU-lKARY6vcV",
        "outputId": "8f943fc5-7884-4970-d7ae-fa845b0c0ea3"
      },
      "source": [
        "from collections import Counter\n",
        "Counter(texto1.lower())"
      ],
      "execution_count": null,
      "outputs": [
        {
          "output_type": "execute_result",
          "data": {
            "text/plain": [
              "Counter({'\\n': 7,\n",
              "         ' ': 136,\n",
              "         '\"': 4,\n",
              "         ',': 13,\n",
              "         '-': 1,\n",
              "         '.': 5,\n",
              "         '1': 1,\n",
              "         '2': 1,\n",
              "         '4': 1,\n",
              "         '5': 1,\n",
              "         '9': 1,\n",
              "         'a': 68,\n",
              "         'b': 8,\n",
              "         'c': 29,\n",
              "         'd': 54,\n",
              "         'e': 80,\n",
              "         'f': 7,\n",
              "         'g': 5,\n",
              "         'h': 7,\n",
              "         'i': 52,\n",
              "         'j': 2,\n",
              "         'k': 2,\n",
              "         'l': 18,\n",
              "         'm': 36,\n",
              "         'n': 42,\n",
              "         'o': 75,\n",
              "         'p': 15,\n",
              "         'q': 5,\n",
              "         'r': 36,\n",
              "         's': 48,\n",
              "         't': 37,\n",
              "         'u': 32,\n",
              "         'v': 3,\n",
              "         'w': 2,\n",
              "         'x': 3,\n",
              "         'z': 2,\n",
              "         'à': 1,\n",
              "         'á': 2,\n",
              "         'ã': 1,\n",
              "         'ç': 4,\n",
              "         'é': 1,\n",
              "         'ê': 2,\n",
              "         'í': 2,\n",
              "         'ó': 1,\n",
              "         'õ': 2,\n",
              "         'ú': 2,\n",
              "         '–': 1})"
            ]
          },
          "metadata": {},
          "execution_count": 7
        }
      ]
    },
    {
      "cell_type": "code",
      "metadata": {
        "colab": {
          "base_uri": "https://localhost:8080/"
        },
        "id": "Im2EpOxG7grE",
        "outputId": "33b3cd97-30ab-467d-ab93-9bb990ec26ee"
      },
      "source": [
        "aparicoes = Counter(texto1.lower())\n",
        "total_de_caracteres = sum(aparicoes.values())\n",
        "total_de_caracteres"
      ],
      "execution_count": null,
      "outputs": [
        {
          "output_type": "execute_result",
          "data": {
            "text/plain": [
              "858"
            ]
          },
          "metadata": {},
          "execution_count": 10
        }
      ]
    },
    {
      "cell_type": "code",
      "metadata": {
        "colab": {
          "base_uri": "https://localhost:8080/"
        },
        "id": "O4bbhMXd8Wll",
        "outputId": "6bb26e51-c0c4-43d0-b2ff-97a9a131040d"
      },
      "source": [
        "for letra,frequencia in aparicoes.items():\n",
        "  tupla = (letra, frequencia / total_de_caracteres)\n",
        "  print(tupla)"
      ],
      "execution_count": null,
      "outputs": [
        {
          "output_type": "stream",
          "name": "stdout",
          "text": [
            "('\\n', 0.008158508158508158)\n",
            "('c', 0.0337995337995338)\n",
            "('o', 0.08741258741258741)\n",
            "('m', 0.04195804195804196)\n",
            "(' ', 0.1585081585081585)\n",
            "('u', 0.037296037296037296)\n",
            "('a', 0.07925407925407925)\n",
            "('d', 0.06293706293706294)\n",
            "('i', 0.06060606060606061)\n",
            "('ê', 0.002331002331002331)\n",
            "('n', 0.04895104895104895)\n",
            "('t', 0.04312354312354312)\n",
            "('e', 0.09324009324009325)\n",
            "('r', 0.04195804195804196)\n",
            "('q', 0.005827505827505828)\n",
            "('s', 0.055944055944055944)\n",
            "('p', 0.017482517482517484)\n",
            "('2', 0.0011655011655011655)\n",
            "('9', 0.0011655011655011655)\n",
            "('ó', 0.0011655011655011655)\n",
            "('l', 0.02097902097902098)\n",
            "('ç', 0.004662004662004662)\n",
            "('f', 0.008158508158508158)\n",
            "(',', 0.015151515151515152)\n",
            "('x', 0.0034965034965034965)\n",
            "('-', 0.0011655011655011655)\n",
            "('b', 0.009324009324009324)\n",
            "('j', 0.002331002331002331)\n",
            "('.', 0.005827505827505828)\n",
            "('ú', 0.002331002331002331)\n",
            "('v', 0.0034965034965034965)\n",
            "('\"', 0.004662004662004662)\n",
            "('1', 0.0011655011655011655)\n",
            "('5', 0.0011655011655011655)\n",
            "('h', 0.008158508158508158)\n",
            "('á', 0.002331002331002331)\n",
            "('k', 0.002331002331002331)\n",
            "('w', 0.002331002331002331)\n",
            "('–', 0.0011655011655011655)\n",
            "('à', 0.0011655011655011655)\n",
            "('õ', 0.002331002331002331)\n",
            "('g', 0.005827505827505828)\n",
            "('ã', 0.0011655011655011655)\n",
            "('í', 0.002331002331002331)\n",
            "('é', 0.0011655011655011655)\n",
            "('4', 0.0011655011655011655)\n",
            "('z', 0.002331002331002331)\n"
          ]
        }
      ]
    },
    {
      "cell_type": "code",
      "metadata": {
        "colab": {
          "base_uri": "https://localhost:8080/"
        },
        "id": "RnihBPlQ9ZD4",
        "outputId": "5250278b-d247-4461-895c-446d36e27f49"
      },
      "source": [
        "[(letra, frequencia / total_de_caracteres) for letra,frequencia in aparicoes.items()]\n"
      ],
      "execution_count": null,
      "outputs": [
        {
          "output_type": "execute_result",
          "data": {
            "text/plain": [
              "[('\\n', 0.008158508158508158),\n",
              " ('c', 0.0337995337995338),\n",
              " ('o', 0.08741258741258741),\n",
              " ('m', 0.04195804195804196),\n",
              " (' ', 0.1585081585081585),\n",
              " ('u', 0.037296037296037296),\n",
              " ('a', 0.07925407925407925),\n",
              " ('d', 0.06293706293706294),\n",
              " ('i', 0.06060606060606061),\n",
              " ('ê', 0.002331002331002331),\n",
              " ('n', 0.04895104895104895),\n",
              " ('t', 0.04312354312354312),\n",
              " ('e', 0.09324009324009325),\n",
              " ('r', 0.04195804195804196),\n",
              " ('q', 0.005827505827505828),\n",
              " ('s', 0.055944055944055944),\n",
              " ('p', 0.017482517482517484),\n",
              " ('2', 0.0011655011655011655),\n",
              " ('9', 0.0011655011655011655),\n",
              " ('ó', 0.0011655011655011655),\n",
              " ('l', 0.02097902097902098),\n",
              " ('ç', 0.004662004662004662),\n",
              " ('f', 0.008158508158508158),\n",
              " (',', 0.015151515151515152),\n",
              " ('x', 0.0034965034965034965),\n",
              " ('-', 0.0011655011655011655),\n",
              " ('b', 0.009324009324009324),\n",
              " ('j', 0.002331002331002331),\n",
              " ('.', 0.005827505827505828),\n",
              " ('ú', 0.002331002331002331),\n",
              " ('v', 0.0034965034965034965),\n",
              " ('\"', 0.004662004662004662),\n",
              " ('1', 0.0011655011655011655),\n",
              " ('5', 0.0011655011655011655),\n",
              " ('h', 0.008158508158508158),\n",
              " ('á', 0.002331002331002331),\n",
              " ('k', 0.002331002331002331),\n",
              " ('w', 0.002331002331002331),\n",
              " ('–', 0.0011655011655011655),\n",
              " ('à', 0.0011655011655011655),\n",
              " ('õ', 0.002331002331002331),\n",
              " ('g', 0.005827505827505828),\n",
              " ('ã', 0.0011655011655011655),\n",
              " ('í', 0.002331002331002331),\n",
              " ('é', 0.0011655011655011655),\n",
              " ('4', 0.0011655011655011655),\n",
              " ('z', 0.002331002331002331)]"
            ]
          },
          "metadata": {},
          "execution_count": 12
        }
      ]
    },
    {
      "cell_type": "code",
      "metadata": {
        "colab": {
          "base_uri": "https://localhost:8080/"
        },
        "id": "iUOAYV_W9z4u",
        "outputId": "fdf94f6e-4c23-44a2-83ea-b60226cb48ab"
      },
      "source": [
        "proporcoes = [(letra, frequencia / total_de_caracteres) for letra,frequencia in aparicoes.items()]\n",
        "proporcoes = dict(proporcoes)\n",
        "proporcoes"
      ],
      "execution_count": null,
      "outputs": [
        {
          "output_type": "execute_result",
          "data": {
            "text/plain": [
              "{'\\n': 0.008158508158508158,\n",
              " ' ': 0.1585081585081585,\n",
              " '\"': 0.004662004662004662,\n",
              " ',': 0.015151515151515152,\n",
              " '-': 0.0011655011655011655,\n",
              " '.': 0.005827505827505828,\n",
              " '1': 0.0011655011655011655,\n",
              " '2': 0.0011655011655011655,\n",
              " '4': 0.0011655011655011655,\n",
              " '5': 0.0011655011655011655,\n",
              " '9': 0.0011655011655011655,\n",
              " 'a': 0.07925407925407925,\n",
              " 'b': 0.009324009324009324,\n",
              " 'c': 0.0337995337995338,\n",
              " 'd': 0.06293706293706294,\n",
              " 'e': 0.09324009324009325,\n",
              " 'f': 0.008158508158508158,\n",
              " 'g': 0.005827505827505828,\n",
              " 'h': 0.008158508158508158,\n",
              " 'i': 0.06060606060606061,\n",
              " 'j': 0.002331002331002331,\n",
              " 'k': 0.002331002331002331,\n",
              " 'l': 0.02097902097902098,\n",
              " 'm': 0.04195804195804196,\n",
              " 'n': 0.04895104895104895,\n",
              " 'o': 0.08741258741258741,\n",
              " 'p': 0.017482517482517484,\n",
              " 'q': 0.005827505827505828,\n",
              " 'r': 0.04195804195804196,\n",
              " 's': 0.055944055944055944,\n",
              " 't': 0.04312354312354312,\n",
              " 'u': 0.037296037296037296,\n",
              " 'v': 0.0034965034965034965,\n",
              " 'w': 0.002331002331002331,\n",
              " 'x': 0.0034965034965034965,\n",
              " 'z': 0.002331002331002331,\n",
              " 'à': 0.0011655011655011655,\n",
              " 'á': 0.002331002331002331,\n",
              " 'ã': 0.0011655011655011655,\n",
              " 'ç': 0.004662004662004662,\n",
              " 'é': 0.0011655011655011655,\n",
              " 'ê': 0.002331002331002331,\n",
              " 'í': 0.002331002331002331,\n",
              " 'ó': 0.0011655011655011655,\n",
              " 'õ': 0.002331002331002331,\n",
              " 'ú': 0.002331002331002331,\n",
              " '–': 0.0011655011655011655}"
            ]
          },
          "metadata": {},
          "execution_count": 14
        }
      ]
    },
    {
      "cell_type": "code",
      "metadata": {
        "colab": {
          "base_uri": "https://localhost:8080/"
        },
        "id": "Fqv2dL0Z-hhl",
        "outputId": "8132e7fd-9f06-4b40-916d-189591a3e333"
      },
      "source": [
        "proporcoes = Counter(dict(proporcoes))\n",
        "proporcoes.most_common(10)"
      ],
      "execution_count": null,
      "outputs": [
        {
          "output_type": "execute_result",
          "data": {
            "text/plain": [
              "[(' ', 0.1585081585081585),\n",
              " ('e', 0.09324009324009325),\n",
              " ('o', 0.08741258741258741),\n",
              " ('a', 0.07925407925407925),\n",
              " ('d', 0.06293706293706294),\n",
              " ('i', 0.06060606060606061),\n",
              " ('s', 0.055944055944055944),\n",
              " ('n', 0.04895104895104895),\n",
              " ('t', 0.04312354312354312),\n",
              " ('m', 0.04195804195804196)]"
            ]
          },
          "metadata": {},
          "execution_count": 16
        }
      ]
    },
    {
      "cell_type": "code",
      "metadata": {
        "id": "riq-vrZA_cKU"
      },
      "source": [
        "def analisa_frequencia_de_letras(texto):\n",
        "  aparicoes = Counter(texto.lower())\n",
        "  total_de_caracteres = sum(aparicoes.values())\n",
        "\n",
        "  proporcoes = [(letra, frequencia / total_de_caracteres) for letra, frequencia in aparicoes.items()]\n",
        "  proporcoes = Counter(dict(proporcoes))\n",
        "  mais_comuns = proporcoes.most_common(10)\n",
        "  for caractere, proporcao in mais_comuns:\n",
        "    print(\"{} => {:.2f}%\".format(caractere, proporcao * 100))"
      ],
      "execution_count": null,
      "outputs": []
    },
    {
      "cell_type": "code",
      "metadata": {
        "colab": {
          "base_uri": "https://localhost:8080/"
        },
        "id": "_IS1mLClA-o4",
        "outputId": "6bbfb9ce-bd31-4646-b24d-e2baaaea6088"
      },
      "source": [
        "analisa_frequencia_de_letras(texto1)"
      ],
      "execution_count": null,
      "outputs": [
        {
          "output_type": "stream",
          "name": "stdout",
          "text": [
            "  => 15.85%\n",
            "e => 9.32%\n",
            "o => 8.74%\n",
            "a => 7.93%\n",
            "d => 6.29%\n",
            "i => 6.06%\n",
            "s => 5.59%\n",
            "n => 4.90%\n",
            "t => 4.31%\n",
            "m => 4.20%\n"
          ]
        }
      ]
    },
    {
      "cell_type": "code",
      "metadata": {
        "colab": {
          "base_uri": "https://localhost:8080/"
        },
        "id": "cKySQIH6Cbd2",
        "outputId": "57b91a1f-327b-44fc-ae82-aecef162d7a4"
      },
      "source": [
        "analisa_frequencia_de_letras(texto2)"
      ],
      "execution_count": null,
      "outputs": [
        {
          "output_type": "stream",
          "name": "stdout",
          "text": [
            "  => 16.23%\n",
            "e => 10.07%\n",
            "a => 9.47%\n",
            "o => 7.68%\n",
            "i => 6.09%\n",
            "r => 5.56%\n",
            "s => 5.50%\n",
            "d => 4.44%\n",
            "n => 4.44%\n",
            "m => 4.30%\n"
          ]
        }
      ]
    },
    {
      "cell_type": "markdown",
      "metadata": {
        "id": "MchGE0EcDFt3"
      },
      "source": [
        "Use coleções e consulte documentação do python, tem muita coisa interessante para aprender."
      ]
    }
  ]
}